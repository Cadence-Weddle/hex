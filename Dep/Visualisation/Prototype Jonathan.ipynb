{
 "cells": [
  {
   "cell_type": "markdown",
   "metadata": {},
   "source": [
    "# Configuration"
   ]
  },
  {
   "cell_type": "code",
   "execution_count": 38,
   "metadata": {},
   "outputs": [],
   "source": [
    "from Custom import *\n",
    "import numpy as np\n",
    "from tkinter import *\n",
    "from tkinter.scrolledtext import *\n",
    "from PIL import Image, ImageTk\n",
    "import random"
   ]
  },
  {
   "cell_type": "code",
   "execution_count": 39,
   "metadata": {
    "scrolled": true
   },
   "outputs": [
    {
     "data": {
      "text/plain": [
       "''"
      ]
     },
     "execution_count": 39,
     "metadata": {},
     "output_type": "execute_result"
    }
   ],
   "source": [
    "Root = Tk()\n",
    "Root.wm_state('zoomed')"
   ]
  },
  {
   "cell_type": "markdown",
   "metadata": {},
   "source": [
    "# Top Bar"
   ]
  },
  {
   "cell_type": "code",
   "execution_count": 40,
   "metadata": {},
   "outputs": [],
   "source": [
    "def hello():\n",
    "    print(\"hello!\")\n",
    "\n",
    "menubar = Menu(Root)\n",
    "\n",
    "# create a pulldown menu, and add it to the menu bar\n",
    "filemenu = Menu(menubar, tearoff=0)\n",
    "filemenu.add_command(label=\"Open\", command=hello)\n",
    "filemenu.add_command(label=\"Save\", command=hello)\n",
    "filemenu.add_separator()\n",
    "filemenu.add_command(label=\"Exit\", command=Root.quit)\n",
    "menubar.add_cascade(label=\"File\", menu=filemenu)\n",
    "\n",
    "# create more pulldown menus\n",
    "editmenu = Menu(menubar, tearoff=0)\n",
    "editmenu.add_command(label=\"Cut\", command=hello)\n",
    "editmenu.add_command(label=\"Copy\", command=hello)\n",
    "editmenu.add_command(label=\"Paste\", command=hello)\n",
    "menubar.add_cascade(label=\"Edit\", menu=editmenu)\n",
    "\n",
    "helpmenu = Menu(menubar, tearoff=0)\n",
    "helpmenu.add_command(label=\"About\", command=hello)\n",
    "menubar.add_cascade(label=\"Help\", menu=helpmenu)\n",
    "\n",
    "# display the menu\n",
    "Root.config(menu=menubar)"
   ]
  },
  {
   "cell_type": "markdown",
   "metadata": {},
   "source": [
    "# Left Frame"
   ]
  },
  {
   "cell_type": "code",
   "execution_count": 41,
   "metadata": {},
   "outputs": [],
   "source": [
    "LeftFrame = Frame(Root)"
   ]
  },
  {
   "cell_type": "markdown",
   "metadata": {},
   "source": [
    "## GameBoard"
   ]
  },
  {
   "cell_type": "code",
   "execution_count": 42,
   "metadata": {},
   "outputs": [],
   "source": [
    "board = GameBoardVisualization(LeftFrame,np.random.randint(3,size=(11,11)))"
   ]
  },
  {
   "cell_type": "code",
   "execution_count": null,
   "metadata": {},
   "outputs": [],
   "source": [
    "board.pack(side=TOP,fill='x',expand=1)"
   ]
  },
  {
   "cell_type": "code",
   "execution_count": null,
   "metadata": {},
   "outputs": [],
   "source": []
  },
  {
   "cell_type": "markdown",
   "metadata": {},
   "source": [
    "## Infobox"
   ]
  },
  {
   "cell_type": "code",
   "execution_count": 44,
   "metadata": {},
   "outputs": [],
   "source": [
    "Infobox = Frame(LeftFrame)\n",
    "Player1 = Label(Infobox,text='Player 1: Jonathan Z.', justify=LEFT)\n",
    "Player1.grid(row=0,column=0)\n",
    "Player2 = Label(Infobox,text='Player 2: Jonathan Z.', justify=LEFT)\n",
    "Player2.grid(row=0,column=1)\n",
    "GameNumber = Label(Infobox,text='Game Number: {}'.format(random.randint(0,1000)), justify=LEFT)\n",
    "GameNumber.grid(row=0,column=2)\n",
    "CurrentPlayer = Label(Infobox,text='Current Player: {}'.format(random.randint(1,2)), justify=LEFT)\n",
    "CurrentPlayer.grid(row=1,column=0)\n",
    "MoveNumber = Label(Infobox,text='Move: {}'.format(random.randint(0,100)), justify=LEFT)\n",
    "MoveNumber.grid(row=1,column=1)\n",
    "Vistype = Label(Infobox,text='Type: Match', justify=LEFT)\n",
    "Vistype.grid(row=1,column=2)\n",
    "Blank = Label(Infobox)\n",
    "Blank.grid(row=2,column=0)\n",
    "Infobox.pack()"
   ]
  },
  {
   "cell_type": "markdown",
   "metadata": {},
   "source": [
    "## Command Processor"
   ]
  },
  {
   "cell_type": "code",
   "execution_count": 45,
   "metadata": {},
   "outputs": [],
   "source": [
    "CommandProcessor = ChatHistory = ScrolledText(LeftFrame,fg='#FFFFFF', bg='#000000',insertbackground='#FFFFFF')\n",
    "CommandProcessor.pack(fill='x')"
   ]
  },
  {
   "cell_type": "markdown",
   "metadata": {},
   "source": [
    "# Spacer"
   ]
  },
  {
   "cell_type": "code",
   "execution_count": 46,
   "metadata": {},
   "outputs": [],
   "source": [
    "Spacer = Frame(Root, width=50, bg='#000000', relief=SUNKEN)"
   ]
  },
  {
   "cell_type": "markdown",
   "metadata": {},
   "source": [
    "# Right Frame"
   ]
  },
  {
   "cell_type": "code",
   "execution_count": 47,
   "metadata": {},
   "outputs": [],
   "source": [
    "RightFrame = Frame(Root)"
   ]
  },
  {
   "cell_type": "markdown",
   "metadata": {},
   "source": [
    "## Top Right Frame"
   ]
  },
  {
   "cell_type": "code",
   "execution_count": 48,
   "metadata": {},
   "outputs": [],
   "source": [
    "TopRightFrame=Frame(RightFrame)\n",
    "TopRightFrame.pack()"
   ]
  },
  {
   "cell_type": "markdown",
   "metadata": {},
   "source": [
    "### Move Log"
   ]
  },
  {
   "cell_type": "code",
   "execution_count": 49,
   "metadata": {},
   "outputs": [],
   "source": [
    "MoveLog = ScrolledText(TopRightFrame,width=9)\n",
    "MoveLog.pack(side=LEFT)"
   ]
  },
  {
   "cell_type": "markdown",
   "metadata": {},
   "source": [
    "### Settings and Console"
   ]
  },
  {
   "cell_type": "code",
   "execution_count": 50,
   "metadata": {},
   "outputs": [],
   "source": [
    "TopRightFrameSub = PanedWindow(TopRightFrame, orient=HORIZONTAL,showhandle=True)\n",
    "TopRightFrameSub.pack()\n",
    "\n",
    "ConsoleLog = ScrolledText(TopRightFrameSub)\n",
    "TopRightFrameSub.add(ConsoleLog)\n",
    "\n",
    "Settings = Frame(TopRightFrameSub)\n",
    "TempSettingsLabel = Label(Settings,text='Settings')\n",
    "TempSettingsLabel.pack()\n",
    "\n",
    "TopRightFrameSub.add(Settings)"
   ]
  },
  {
   "cell_type": "markdown",
   "metadata": {},
   "source": [
    "# Pack Frames"
   ]
  },
  {
   "cell_type": "code",
   "execution_count": null,
   "metadata": {},
   "outputs": [],
   "source": [
    "LeftFrame.pack(side=LEFT,pady=0)\n",
    "Spacer.pack(side=LEFT)\n",
    "RightFrame.pack()\n",
    "Root.mainloop()"
   ]
  },
  {
   "cell_type": "code",
   "execution_count": null,
   "metadata": {},
   "outputs": [],
   "source": []
  },
  {
   "cell_type": "code",
   "execution_count": null,
   "metadata": {},
   "outputs": [],
   "source": []
  }
 ],
 "metadata": {
  "kernelspec": {
   "display_name": "Python 3",
   "language": "python",
   "name": "python3"
  },
  "language_info": {
   "codemirror_mode": {
    "name": "ipython",
    "version": 3
   },
   "file_extension": ".py",
   "mimetype": "text/x-python",
   "name": "python",
   "nbconvert_exporter": "python",
   "pygments_lexer": "ipython3",
   "version": "3.6.2"
  }
 },
 "nbformat": 4,
 "nbformat_minor": 2
}
