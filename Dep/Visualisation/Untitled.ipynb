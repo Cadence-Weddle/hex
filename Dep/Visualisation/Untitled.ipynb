{
 "cells": [
  {
   "cell_type": "code",
<<<<<<< HEAD
   "execution_count": 55,
=======
   "execution_count": 1,
   "metadata": {},
   "outputs": [],
   "source": [
    "import tensorflow as tf\n",
    "import time\n",
    "import numpy as np\n",
    "import tqdm"
   ]
  },
  {
   "cell_type": "code",
   "execution_count": null,
>>>>>>> origin/master
   "metadata": {},
   "outputs": [
    {
     "name": "stdout",
     "output_type": "stream",
     "text": [
<<<<<<< HEAD
      "('winnative', 'clam', 'alt', 'default', 'classic', 'vista', 'xpnative')\n"
=======
      "1513990948.208099\n"
     ]
    },
    {
     "name": "stderr",
     "output_type": "stream",
     "text": [
      "  2%|█▋                                                                            | 21/1000 [04:17<3:20:21, 12.28s/it]"
>>>>>>> origin/master
     ]
    }
   ],
   "source": [
<<<<<<< HEAD
    "from Custom import *\n",
    "import numpy as np\n",
    "from tkinter import *\n",
    "from tkinter.ttk import *\n",
    "s=ttk.Style()\n",
    "print(s.theme_names())\n",
    "\n",
    "s.theme_use('winnative')"
   ]
  },
  {
   "cell_type": "code",
   "execution_count": 56,
   "metadata": {},
   "outputs": [],
   "source": [
    "Root = Tk()\n",
    "x = Button(Root)\n",
    "x.pack()\n",
    "GameBoard = GameBoardVisualization(Root,matrix=np.random.randint(3,size=(11,11)))"
   ]
  },
  {
   "cell_type": "code",
   "execution_count": 57,
   "metadata": {},
   "outputs": [],
   "source": [
    "GameBoard.pack()"
   ]
  },
  {
   "cell_type": "code",
   "execution_count": 58,
   "metadata": {},
   "outputs": [],
   "source": [
    "Root.mainloop()"
=======
    "with tf.Session() as sess:\n",
    "    with tf.device(\"/gpu:0\"):\n",
    "        print(time.time())\n",
    "        start = time.time()\n",
    "        \n",
    "        for i in tqdm.tqdm(range(1000)):\n",
    "            a = np.random.randn(20,20,20,20, 20)\n",
    "            b = np.random.randn(20,20,20,20, 20)\n",
    "            c = tf.matmul(a, b)\n",
    "            sess.run(c)\n",
    "        print(time.time() - start)\n",
    "            "
>>>>>>> origin/master
   ]
  },
  {
   "cell_type": "code",
   "execution_count": null,
   "metadata": {},
   "outputs": [],
   "source": []
  }
 ],
 "metadata": {
  "kernelspec": {
   "display_name": "Python 3",
   "language": "python",
   "name": "python3"
  },
  "language_info": {
   "codemirror_mode": {
    "name": "ipython",
    "version": 3
   },
   "file_extension": ".py",
   "mimetype": "text/x-python",
   "name": "python",
   "nbconvert_exporter": "python",
   "pygments_lexer": "ipython3",
   "version": "3.6.2"
  }
 },
 "nbformat": 4,
 "nbformat_minor": 2
}
