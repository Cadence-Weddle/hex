{
 "cells": [
  {
   "cell_type": "code",
   "execution_count": 1,
   "metadata": {},
   "outputs": [],
   "source": [
    "import tkinter as Tk\n",
    "import matplotlib\n",
    "matplotlib.use('TkAgg')\n",
    "from matplotlib.backends.backend_tkagg import FigureCanvasTkAgg, NavigationToolbar2TkAgg\n",
    "from matplotlib.figure import Figure\n",
    "import numpy as np\n",
    "\n"
   ]
  },
  {
   "cell_type": "code",
   "execution_count": 30,
   "metadata": {},
   "outputs": [],
   "source": [
    "class GameBoardVisualization(Tk.Widget):\n",
    "    @staticmethod\n",
    "    def transform(matrix):\n",
    "        #This is the most horrible way of doing this, can be cleaned up\n",
    "        output = []\n",
    "        for i in range(len(matrix)):\n",
    "            out=[]\n",
    "            out+=([-1 for _ in range(i)])\n",
    "            for entry in matrix[i]:\n",
    "                out.append(entry)\n",
    "                out.append(entry)\n",
    "            out+=([-1 for _ in range(10-i)])\n",
    "            output.append(out)\n",
    "            output.append(out)\n",
    "        return output\n",
    "    \n",
    "    def __init__(self,master,matrix,dpi=500,cmap=None):\n",
    "    \n",
    "        self.master=master    \n",
    "        self.dpi = dpi\n",
    "        self.cmap = cmap\n",
    "        \n",
    "        self.board = Figure(dpi=self.dpi,frameon=False)\n",
    "        self.board_plot = self.board.add_axes([0,0,1,1])\n",
    "        self.board_plot.imshow(GameBoardVisualization.transform(matrix),cmap=self.cmap)\n",
    "        self.board_plot.axis('off')\n",
    "        self.canvas =  FigureCanvasTkAgg(self.board, master=self.master)\n",
    "        \n",
    "        \n",
    "    def pack(self):\n",
    "        self.canvas._tkcanvas.pack(side=Tk.TOP, fill=Tk.BOTH, expand=1)\n",
    "    \n",
    "    def grid(self, **kwargs):\n",
    "        self.canvas._tkcanvas.grid(kwargs)\n",
    "\n",
    "    def update(self,matrix):\n",
    "        self.board_plot.clear()\n",
    "        self.board_plot.axis('off')\n",
    "        self.board_plot.imshow(GameBoardVisualization.transform(matrix),cmap=self.cmap)\n",
    "        self.canvas.draw()"
   ]
  },
  {
   "cell_type": "code",
   "execution_count": 31,
   "metadata": {},
   "outputs": [],
   "source": [
    "test_game_matrix = np.random.randint(3,size=(11,11))"
   ]
  },
  {
   "cell_type": "code",
   "execution_count": 32,
   "metadata": {},
   "outputs": [],
   "source": [
    "root = Tk.Tk()"
   ]
  },
  {
   "cell_type": "code",
   "execution_count": 33,
   "metadata": {},
   "outputs": [],
   "source": [
    "def magic():\n",
    "    Board.update(np.random.randint(5,size=(11,11)))\n",
    "    \n",
    "b = Tk.Button(root, text=\"OK\", command=magic)\n",
    "b.pack()"
   ]
  },
  {
   "cell_type": "code",
   "execution_count": 34,
   "metadata": {},
   "outputs": [],
   "source": [
    "Board = GameBoardVisualization(root,test_game_matrix)"
   ]
  },
  {
   "cell_type": "code",
   "execution_count": 36,
   "metadata": {},
   "outputs": [
    {
     "ename": "TclError",
     "evalue": "can't invoke \"pack\" command: application has been destroyed",
     "output_type": "error",
     "traceback": [
      "\u001b[1;31m---------------------------------------------------------------------------\u001b[0m",
      "\u001b[1;31mTclError\u001b[0m                                  Traceback (most recent call last)",
      "\u001b[1;32m<ipython-input-36-00691334b6d1>\u001b[0m in \u001b[0;36m<module>\u001b[1;34m()\u001b[0m\n\u001b[1;32m----> 1\u001b[1;33m \u001b[0mBoard\u001b[0m\u001b[1;33m.\u001b[0m\u001b[0mpack\u001b[0m\u001b[1;33m(\u001b[0m\u001b[1;33m)\u001b[0m\u001b[1;33m\u001b[0m\u001b[0m\n\u001b[0m",
      "\u001b[1;32m<ipython-input-30-ce3d161c0326>\u001b[0m in \u001b[0;36mpack\u001b[1;34m(self)\u001b[0m\n\u001b[0;32m     29\u001b[0m \u001b[1;33m\u001b[0m\u001b[0m\n\u001b[0;32m     30\u001b[0m     \u001b[1;32mdef\u001b[0m \u001b[0mpack\u001b[0m\u001b[1;33m(\u001b[0m\u001b[0mself\u001b[0m\u001b[1;33m)\u001b[0m\u001b[1;33m:\u001b[0m\u001b[1;33m\u001b[0m\u001b[0m\n\u001b[1;32m---> 31\u001b[1;33m         \u001b[0mself\u001b[0m\u001b[1;33m.\u001b[0m\u001b[0mcanvas\u001b[0m\u001b[1;33m.\u001b[0m\u001b[0m_tkcanvas\u001b[0m\u001b[1;33m.\u001b[0m\u001b[0mpack\u001b[0m\u001b[1;33m(\u001b[0m\u001b[0mside\u001b[0m\u001b[1;33m=\u001b[0m\u001b[0mTk\u001b[0m\u001b[1;33m.\u001b[0m\u001b[0mTOP\u001b[0m\u001b[1;33m,\u001b[0m \u001b[0mfill\u001b[0m\u001b[1;33m=\u001b[0m\u001b[0mTk\u001b[0m\u001b[1;33m.\u001b[0m\u001b[0mBOTH\u001b[0m\u001b[1;33m,\u001b[0m \u001b[0mexpand\u001b[0m\u001b[1;33m=\u001b[0m\u001b[1;36m1\u001b[0m\u001b[1;33m)\u001b[0m\u001b[1;33m\u001b[0m\u001b[0m\n\u001b[0m\u001b[0;32m     32\u001b[0m \u001b[1;33m\u001b[0m\u001b[0m\n\u001b[0;32m     33\u001b[0m     \u001b[1;32mdef\u001b[0m \u001b[0mgrid\u001b[0m\u001b[1;33m(\u001b[0m\u001b[0mself\u001b[0m\u001b[1;33m,\u001b[0m \u001b[1;33m**\u001b[0m\u001b[0mkwargs\u001b[0m\u001b[1;33m)\u001b[0m\u001b[1;33m:\u001b[0m\u001b[1;33m\u001b[0m\u001b[0m\n",
      "\u001b[1;32mc:\\users\\yuyan\\appdata\\local\\programs\\python\\python36\\lib\\tkinter\\__init__.py\u001b[0m in \u001b[0;36mpack_configure\u001b[1;34m(self, cnf, **kw)\u001b[0m\n\u001b[0;32m   2135\u001b[0m         self.tk.call(\n\u001b[0;32m   2136\u001b[0m               \u001b[1;33m(\u001b[0m\u001b[1;34m'pack'\u001b[0m\u001b[1;33m,\u001b[0m \u001b[1;34m'configure'\u001b[0m\u001b[1;33m,\u001b[0m \u001b[0mself\u001b[0m\u001b[1;33m.\u001b[0m\u001b[0m_w\u001b[0m\u001b[1;33m)\u001b[0m\u001b[1;33m\u001b[0m\u001b[0m\n\u001b[1;32m-> 2137\u001b[1;33m               + self._options(cnf, kw))\n\u001b[0m\u001b[0;32m   2138\u001b[0m     \u001b[0mpack\u001b[0m \u001b[1;33m=\u001b[0m \u001b[0mconfigure\u001b[0m \u001b[1;33m=\u001b[0m \u001b[0mconfig\u001b[0m \u001b[1;33m=\u001b[0m \u001b[0mpack_configure\u001b[0m\u001b[1;33m\u001b[0m\u001b[0m\n\u001b[0;32m   2139\u001b[0m     \u001b[1;32mdef\u001b[0m \u001b[0mpack_forget\u001b[0m\u001b[1;33m(\u001b[0m\u001b[0mself\u001b[0m\u001b[1;33m)\u001b[0m\u001b[1;33m:\u001b[0m\u001b[1;33m\u001b[0m\u001b[0m\n",
      "\u001b[1;31mTclError\u001b[0m: can't invoke \"pack\" command: application has been destroyed"
     ]
    }
   ],
   "source": [
    "Board.pack()"
   ]
  },
  {
   "cell_type": "code",
   "execution_count": 35,
   "metadata": {},
   "outputs": [],
   "source": [
    "root.mainloop()"
   ]
  }
 ],
 "metadata": {
  "kernelspec": {
   "display_name": "Python 3",
   "language": "python",
   "name": "python3"
  },
  "language_info": {
   "codemirror_mode": {
    "name": "ipython",
    "version": 3
   },
   "file_extension": ".py",
   "mimetype": "text/x-python",
   "name": "python",
   "nbconvert_exporter": "python",
   "pygments_lexer": "ipython3",
   "version": "3.6.2"
  }
 },
 "nbformat": 4,
 "nbformat_minor": 2
}
