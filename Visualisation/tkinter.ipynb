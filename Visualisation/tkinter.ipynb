{
 "cells": [
  {
   "cell_type": "code",
   "execution_count": 2,
   "metadata": {},
   "outputs": [],
   "source": [
    "import tkinter as tk\n",
    "from PIL import Image, ImageTk\n",
    "from scipy.misc import imread"
   ]
  },
  {
   "cell_type": "code",
   "execution_count": 16,
   "metadata": {},
   "outputs": [],
   "source": [
    "class Window(tk.Frame):\n",
    "\n",
    "    def __init__(self, master=None):\n",
    "        tk.Frame.__init__(self, master)               \n",
    "        self.master = master\n",
    "        \n",
    "        self.init_window()\n",
    "        \n",
    "    def init_window(self):\n",
    "        self.master.title(\"Python Hex GUI\")\n",
    "        self.pack(fill=tk.BOTH, expand=0)\n",
    "        \n",
    "        menu = tk.Menu(self.master)\n",
    "        self.master.config(menu=menu)\n",
    "        file = tk.Menu(menu)\n",
    "        file.add_command(label=\"exit\", command=self.client_exit)\n",
    "        \n",
    "        menu.add_cascade(label=\"File\", menu=file)\n",
    "        edit = tk.Menu(menu)\n",
    "        edit.add_command(label=\"Undo\")\n",
    "        menu.add_cascade(label=\"edit\", menu=edit)\n",
    "        \n",
    "        edit.add_command(label=\"Show Img\", command=self.showImg)\n",
    "        edit.add_command(label=\"Show Text\", command=self.showImg)\n",
    "    def client_exit(self):\n",
    "        print(\"would exit but that kills kernal\")\n",
    "        \n",
    "    def showImg(self):\n",
    "        image = ImageTk.PhotoImage(Image.open(\"C:\\\\Users\\\\user\\\\Desktop\\\\GitHub\\\\hex.github.io\\\\Visualisation\\\\Resources\\\\background.png\"))\n",
    "        panel = tk.Label(self.master, image=image)\n",
    "        panel.pack(side=\"bottom\", fill=\"both\", expand=\"yes\")"
   ]
  },
  {
   "cell_type": "code",
   "execution_count": 14,
   "metadata": {},
   "outputs": [
    {
     "data": {
      "text/plain": [
       "''"
      ]
     },
     "execution_count": 14,
     "metadata": {},
     "output_type": "execute_result"
    }
   ],
   "source": [
    "root = tk.Tk()\n",
    "root.geometry(\"400x300\")"
   ]
  },
  {
   "cell_type": "code",
   "execution_count": 15,
   "metadata": {},
   "outputs": [],
   "source": [
    "app = Window(root)\n",
    "root.mainloop()"
   ]
  },
  {
   "cell_type": "code",
   "execution_count": null,
   "metadata": {},
   "outputs": [],
   "source": []
  }
 ],
 "metadata": {
  "kernelspec": {
   "display_name": "Python 3",
   "language": "python",
   "name": "python3"
  },
  "language_info": {
   "codemirror_mode": {
    "name": "ipython",
    "version": 3
   },
   "file_extension": ".py",
   "mimetype": "text/x-python",
   "name": "python",
   "nbconvert_exporter": "python",
   "pygments_lexer": "ipython3",
   "version": "3.6.2"
  }
 },
 "nbformat": 4,
 "nbformat_minor": 2
}
