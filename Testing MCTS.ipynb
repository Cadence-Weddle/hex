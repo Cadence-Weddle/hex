{
 "cells": [
  {
   "cell_type": "code",
   "execution_count": 8,
   "metadata": {},
   "outputs": [],
   "source": [
    "from sys import path\n",
    "path.append(\"C:\\\\Users\\\\user\\\\Desktop\\\\Github\\\\hex.github.io\\\\Game\\\\AI\\\\\")\n",
    "path.append(\"C:\\\\Users\\\\user\\\\Desktop\\\\Github\\\\hex.github.io\\\\Dep\\\\OPTIMISED\\\\\")\n",
    "path.append(\"C://Users/user/Desktop/Github/hex.github.io/Game/AI/TreeSearch/\")\n",
    "from imp import reload\n",
    "import numpy as np"
   ]
  },
  {
   "cell_type": "code",
   "execution_count": 9,
   "metadata": {},
   "outputs": [],
   "source": [
    "import NeuralNetwork.NeuralNetwork as N_N\n",
    "reload(N_N)\n",
    "NN=N_N.NeuralNetwork"
   ]
  },
  {
   "cell_type": "code",
   "execution_count": 10,
   "metadata": {
    "scrolled": true
   },
   "outputs": [],
   "source": [
    "model = NN(input_shape=(11,11,1))"
   ]
  },
  {
   "cell_type": "code",
   "execution_count": 42,
   "metadata": {
    "scrolled": false
   },
   "outputs": [],
   "source": [
    "import GameLogic.GameLogic as Logic\n",
    "reload(Logic)\n",
    "Game = Logic.Game"
   ]
  },
  {
   "cell_type": "code",
   "execution_count": 43,
   "metadata": {},
   "outputs": [],
   "source": [
    "game = Game()"
   ]
  },
  {
   "cell_type": "code",
   "execution_count": 44,
   "metadata": {},
   "outputs": [],
   "source": [
    "import TreeSearch.MonteCarloTreeSearch as MonteCarloTreeSearch\n",
    "reload(MonteCarloTreeSearch)\n",
    "MCTS = MonteCarloTreeSearch.MonteCarloTreeSearch"
   ]
  },
  {
   "cell_type": "code",
   "execution_count": 45,
   "metadata": {
    "scrolled": false
   },
   "outputs": [
    {
     "name": "stdout",
     "output_type": "stream",
     "text": [
      "An error occured while type Checking; parent : None, type(self) : <class 'TreeSearch.MonteCarloTreeSearch.MCTS_Node'>\n"
     ]
    }
   ],
   "source": [
    "tree = MCTS(game, model)"
   ]
  },
  {
   "cell_type": "code",
   "execution_count": 58,
   "metadata": {
    "scrolled": true
   },
   "outputs": [
    {
     "name": "stdout",
     "output_type": "stream",
     "text": [
      "<class 'TreeSearch.MonteCarloTreeSearch.MCTS_Node'>, Parent : <class 'TreeSearch.MonteCarloTreeSearch.MCTS_Node'>, Number of subnodes : 0, expanded : False\n",
      "<class 'TreeSearch.MonteCarloTreeSearch.MCTS_Node'>, Parent : <class 'TreeSearch.MonteCarloTreeSearch.MCTS_Node'>, Number of subnodes : 120, expanded : True\n",
      "<class 'TreeSearch.MonteCarloTreeSearch.MCTS_Node'>, Parent : <class 'TreeSearch.MonteCarloTreeSearch.MCTS_Node'>, Number of subnodes : 0, expanded : False\n",
      "<class 'TreeSearch.MonteCarloTreeSearch.MCTS_Node'>, Parent : <class 'TreeSearch.MonteCarloTreeSearch.MCTS_Node'>, Number of subnodes : 120, expanded : True\n",
      "<class 'TreeSearch.MonteCarloTreeSearch.MCTS_Node'>, Parent : <class 'TreeSearch.MonteCarloTreeSearch.MCTS_Node'>, Number of subnodes : 119, expanded : True\n",
      "<class 'TreeSearch.MonteCarloTreeSearch.MCTS_Node'>, Parent : <class 'TreeSearch.MonteCarloTreeSearch.MCTS_Node'>, Number of subnodes : 0, expanded : False\n",
      "<class 'TreeSearch.MonteCarloTreeSearch.MCTS_Node'>, Parent : <class 'TreeSearch.MonteCarloTreeSearch.MCTS_Node'>, Number of subnodes : 120, expanded : True\n",
      "<class 'TreeSearch.MonteCarloTreeSearch.MCTS_Node'>, Parent : <class 'TreeSearch.MonteCarloTreeSearch.MCTS_Node'>, Number of subnodes : 119, expanded : True\n",
      "<class 'TreeSearch.MonteCarloTreeSearch.MCTS_Node'>, Parent : <class 'TreeSearch.MonteCarloTreeSearch.MCTS_Node'>, Number of subnodes : 118, expanded : True\n",
      "<class 'TreeSearch.MonteCarloTreeSearch.MCTS_Node'>, Parent : <class 'TreeSearch.MonteCarloTreeSearch.MCTS_Node'>, Number of subnodes : 0, expanded : False\n",
      "<class 'TreeSearch.MonteCarloTreeSearch.MCTS_Node'>, Parent : <class 'TreeSearch.MonteCarloTreeSearch.MCTS_Node'>, Number of subnodes : 120, expanded : True\n",
      "<class 'TreeSearch.MonteCarloTreeSearch.MCTS_Node'>, Parent : <class 'TreeSearch.MonteCarloTreeSearch.MCTS_Node'>, Number of subnodes : 119, expanded : True\n",
      "<class 'TreeSearch.MonteCarloTreeSearch.MCTS_Node'>, Parent : <class 'TreeSearch.MonteCarloTreeSearch.MCTS_Node'>, Number of subnodes : 118, expanded : True\n",
      "<class 'TreeSearch.MonteCarloTreeSearch.MCTS_Node'>, Parent : <class 'TreeSearch.MonteCarloTreeSearch.MCTS_Node'>, Number of subnodes : 117, expanded : True\n",
      "<class 'TreeSearch.MonteCarloTreeSearch.MCTS_Node'>, Parent : <class 'TreeSearch.MonteCarloTreeSearch.MCTS_Node'>, Number of subnodes : 0, expanded : False\n",
      "<class 'TreeSearch.MonteCarloTreeSearch.MCTS_Node'>, Parent : <class 'TreeSearch.MonteCarloTreeSearch.MCTS_Node'>, Number of subnodes : 120, expanded : True\n",
      "<class 'TreeSearch.MonteCarloTreeSearch.MCTS_Node'>, Parent : <class 'TreeSearch.MonteCarloTreeSearch.MCTS_Node'>, Number of subnodes : 119, expanded : True\n",
      "<class 'TreeSearch.MonteCarloTreeSearch.MCTS_Node'>, Parent : <class 'TreeSearch.MonteCarloTreeSearch.MCTS_Node'>, Number of subnodes : 118, expanded : True\n",
      "<class 'TreeSearch.MonteCarloTreeSearch.MCTS_Node'>, Parent : <class 'TreeSearch.MonteCarloTreeSearch.MCTS_Node'>, Number of subnodes : 117, expanded : True\n",
      "<class 'TreeSearch.MonteCarloTreeSearch.MCTS_Node'>, Parent : <class 'TreeSearch.MonteCarloTreeSearch.MCTS_Node'>, Number of subnodes : 116, expanded : True\n",
      "<class 'TreeSearch.MonteCarloTreeSearch.MCTS_Node'>, Parent : <class 'TreeSearch.MonteCarloTreeSearch.MCTS_Node'>, Number of subnodes : 0, expanded : False\n",
      "<class 'TreeSearch.MonteCarloTreeSearch.MCTS_Node'>, Parent : <class 'TreeSearch.MonteCarloTreeSearch.MCTS_Node'>, Number of subnodes : 120, expanded : True\n",
      "<class 'TreeSearch.MonteCarloTreeSearch.MCTS_Node'>, Parent : <class 'TreeSearch.MonteCarloTreeSearch.MCTS_Node'>, Number of subnodes : 119, expanded : True\n",
      "<class 'TreeSearch.MonteCarloTreeSearch.MCTS_Node'>, Parent : <class 'TreeSearch.MonteCarloTreeSearch.MCTS_Node'>, Number of subnodes : 118, expanded : True\n",
      "<class 'TreeSearch.MonteCarloTreeSearch.MCTS_Node'>, Parent : <class 'TreeSearch.MonteCarloTreeSearch.MCTS_Node'>, Number of subnodes : 117, expanded : True\n",
      "<class 'TreeSearch.MonteCarloTreeSearch.MCTS_Node'>, Parent : <class 'TreeSearch.MonteCarloTreeSearch.MCTS_Node'>, Number of subnodes : 116, expanded : True\n",
      "<class 'TreeSearch.MonteCarloTreeSearch.MCTS_Node'>, Parent : <class 'TreeSearch.MonteCarloTreeSearch.MCTS_Node'>, Number of subnodes : 115, expanded : True\n",
      "<class 'TreeSearch.MonteCarloTreeSearch.MCTS_Node'>, Parent : <class 'TreeSearch.MonteCarloTreeSearch.MCTS_Node'>, Number of subnodes : 0, expanded : False\n",
      "<class 'TreeSearch.MonteCarloTreeSearch.MCTS_Node'>, Parent : <class 'TreeSearch.MonteCarloTreeSearch.MCTS_Node'>, Number of subnodes : 120, expanded : True\n",
      "<class 'TreeSearch.MonteCarloTreeSearch.MCTS_Node'>, Parent : <class 'TreeSearch.MonteCarloTreeSearch.MCTS_Node'>, Number of subnodes : 119, expanded : True\n",
      "<class 'TreeSearch.MonteCarloTreeSearch.MCTS_Node'>, Parent : <class 'TreeSearch.MonteCarloTreeSearch.MCTS_Node'>, Number of subnodes : 118, expanded : True\n",
      "<class 'TreeSearch.MonteCarloTreeSearch.MCTS_Node'>, Parent : <class 'TreeSearch.MonteCarloTreeSearch.MCTS_Node'>, Number of subnodes : 117, expanded : True\n",
      "<class 'TreeSearch.MonteCarloTreeSearch.MCTS_Node'>, Parent : <class 'TreeSearch.MonteCarloTreeSearch.MCTS_Node'>, Number of subnodes : 116, expanded : True\n",
      "<class 'TreeSearch.MonteCarloTreeSearch.MCTS_Node'>, Parent : <class 'TreeSearch.MonteCarloTreeSearch.MCTS_Node'>, Number of subnodes : 115, expanded : True\n",
      "<class 'TreeSearch.MonteCarloTreeSearch.MCTS_Node'>, Parent : <class 'TreeSearch.MonteCarloTreeSearch.MCTS_Node'>, Number of subnodes : 114, expanded : True\n",
      "<class 'TreeSearch.MonteCarloTreeSearch.MCTS_Node'>, Parent : <class 'TreeSearch.MonteCarloTreeSearch.MCTS_Node'>, Number of subnodes : 0, expanded : False\n",
      "<class 'TreeSearch.MonteCarloTreeSearch.MCTS_Node'>, Parent : <class 'TreeSearch.MonteCarloTreeSearch.MCTS_Node'>, Number of subnodes : 120, expanded : True\n",
      "<class 'TreeSearch.MonteCarloTreeSearch.MCTS_Node'>, Parent : <class 'TreeSearch.MonteCarloTreeSearch.MCTS_Node'>, Number of subnodes : 119, expanded : True\n",
      "<class 'TreeSearch.MonteCarloTreeSearch.MCTS_Node'>, Parent : <class 'TreeSearch.MonteCarloTreeSearch.MCTS_Node'>, Number of subnodes : 118, expanded : True\n",
      "<class 'TreeSearch.MonteCarloTreeSearch.MCTS_Node'>, Parent : <class 'TreeSearch.MonteCarloTreeSearch.MCTS_Node'>, Number of subnodes : 117, expanded : True\n",
      "<class 'TreeSearch.MonteCarloTreeSearch.MCTS_Node'>, Parent : <class 'TreeSearch.MonteCarloTreeSearch.MCTS_Node'>, Number of subnodes : 116, expanded : True\n",
      "<class 'TreeSearch.MonteCarloTreeSearch.MCTS_Node'>, Parent : <class 'TreeSearch.MonteCarloTreeSearch.MCTS_Node'>, Number of subnodes : 115, expanded : True\n",
      "<class 'TreeSearch.MonteCarloTreeSearch.MCTS_Node'>, Parent : <class 'TreeSearch.MonteCarloTreeSearch.MCTS_Node'>, Number of subnodes : 114, expanded : True\n",
      "<class 'TreeSearch.MonteCarloTreeSearch.MCTS_Node'>, Parent : <class 'TreeSearch.MonteCarloTreeSearch.MCTS_Node'>, Number of subnodes : 113, expanded : True\n",
      "<class 'TreeSearch.MonteCarloTreeSearch.MCTS_Node'>, Parent : <class 'TreeSearch.MonteCarloTreeSearch.MCTS_Node'>, Number of subnodes : 0, expanded : False\n"
     ]
    }
   ],
   "source": [
    "move = tree.turn(10)"
   ]
  },
  {
   "cell_type": "code",
   "execution_count": 61,
   "metadata": {},
   "outputs": [
    {
     "data": {
      "text/plain": [
       "array([[ 1.],\n",
       "       [ 0.],\n",
       "       [ 0.],\n",
       "       [ 0.],\n",
       "       [ 0.],\n",
       "       [ 0.],\n",
       "       [ 0.],\n",
       "       [ 0.],\n",
       "       [ 0.],\n",
       "       [ 0.],\n",
       "       [ 0.],\n",
       "       [ 0.],\n",
       "       [ 0.],\n",
       "       [ 0.],\n",
       "       [ 0.],\n",
       "       [ 0.],\n",
       "       [ 0.],\n",
       "       [ 0.],\n",
       "       [ 0.],\n",
       "       [ 0.],\n",
       "       [ 0.],\n",
       "       [ 0.],\n",
       "       [ 0.],\n",
       "       [ 0.],\n",
       "       [ 0.],\n",
       "       [ 0.],\n",
       "       [ 0.],\n",
       "       [ 0.],\n",
       "       [ 0.],\n",
       "       [ 0.],\n",
       "       [ 0.],\n",
       "       [ 0.],\n",
       "       [ 0.],\n",
       "       [ 0.],\n",
       "       [ 0.],\n",
       "       [ 0.],\n",
       "       [ 0.],\n",
       "       [ 0.],\n",
       "       [ 0.],\n",
       "       [ 0.],\n",
       "       [ 0.],\n",
       "       [ 0.],\n",
       "       [ 0.],\n",
       "       [ 0.],\n",
       "       [ 0.],\n",
       "       [ 0.],\n",
       "       [ 0.],\n",
       "       [ 0.],\n",
       "       [ 0.],\n",
       "       [ 0.],\n",
       "       [ 0.],\n",
       "       [ 0.],\n",
       "       [ 0.],\n",
       "       [ 0.],\n",
       "       [ 0.],\n",
       "       [ 0.],\n",
       "       [ 0.],\n",
       "       [ 0.],\n",
       "       [ 0.],\n",
       "       [ 0.],\n",
       "       [ 0.],\n",
       "       [ 0.],\n",
       "       [ 0.],\n",
       "       [ 0.],\n",
       "       [ 0.],\n",
       "       [ 0.],\n",
       "       [ 0.],\n",
       "       [ 0.],\n",
       "       [ 0.],\n",
       "       [ 0.],\n",
       "       [ 0.],\n",
       "       [ 0.],\n",
       "       [ 0.],\n",
       "       [ 0.],\n",
       "       [ 0.],\n",
       "       [ 0.],\n",
       "       [ 0.],\n",
       "       [ 0.],\n",
       "       [ 0.],\n",
       "       [ 0.],\n",
       "       [ 0.],\n",
       "       [ 0.],\n",
       "       [ 0.],\n",
       "       [ 0.],\n",
       "       [ 0.],\n",
       "       [ 0.],\n",
       "       [ 0.],\n",
       "       [ 0.],\n",
       "       [ 0.],\n",
       "       [ 0.],\n",
       "       [ 0.],\n",
       "       [ 0.],\n",
       "       [ 0.],\n",
       "       [ 0.],\n",
       "       [ 0.],\n",
       "       [ 0.],\n",
       "       [ 0.],\n",
       "       [ 0.],\n",
       "       [ 0.],\n",
       "       [ 0.],\n",
       "       [ 0.],\n",
       "       [ 0.],\n",
       "       [ 0.],\n",
       "       [ 0.],\n",
       "       [ 0.],\n",
       "       [ 0.],\n",
       "       [ 0.],\n",
       "       [ 0.],\n",
       "       [ 0.],\n",
       "       [ 0.],\n",
       "       [ 0.],\n",
       "       [ 0.],\n",
       "       [ 0.],\n",
       "       [ 0.],\n",
       "       [ 0.],\n",
       "       [ 0.],\n",
       "       [ 0.],\n",
       "       [ 0.],\n",
       "       [ 0.],\n",
       "       [ 0.],\n",
       "       [ 0.]])"
      ]
     },
     "execution_count": 61,
     "metadata": {},
     "output_type": "execute_result"
    }
   ],
   "source": []
  },
  {
   "cell_type": "code",
   "execution_count": 47,
   "metadata": {},
   "outputs": [],
   "source": [
    "test_game = Game()"
   ]
  },
  {
   "cell_type": "code",
   "execution_count": 48,
   "metadata": {},
   "outputs": [
    {
     "data": {
      "text/plain": [
       "array([  0,   1,   2,   3,   4,   5,   6,   7,   8,   9,  10,  11,  12,\n",
       "        13,  14,  15,  16,  17,  18,  19,  20,  21,  22,  23,  24,  25,\n",
       "        26,  27,  28,  29,  30,  31,  32,  33,  34,  35,  36,  37,  38,\n",
       "        39,  40,  41,  42,  43,  44,  45,  46,  47,  48,  49,  50,  51,\n",
       "        52,  53,  54,  55,  56,  57,  58,  59,  60,  61,  62,  63,  64,\n",
       "        65,  66,  67,  68,  69,  70,  71,  72,  73,  74,  75,  76,  77,\n",
       "        78,  79,  80,  81,  82,  83,  84,  85,  86,  87,  88,  89,  90,\n",
       "        91,  92,  93,  94,  95,  96,  97,  98,  99, 100, 101, 102, 103,\n",
       "       104, 105, 106, 107, 108, 109, 110, 111, 112, 113, 114, 115, 116,\n",
       "       117, 118, 119, 120], dtype=int64)"
      ]
     },
     "execution_count": 48,
     "metadata": {},
     "output_type": "execute_result"
    }
   ],
   "source": [
    "test_game.GetValidMoves()"
   ]
  },
  {
   "cell_type": "code",
   "execution_count": 49,
   "metadata": {},
   "outputs": [
    {
     "name": "stdout",
     "output_type": "stream",
     "text": [
      "0\n",
      "1\n",
      "2\n",
      "3\n",
      "4\n",
      "5\n",
      "6\n",
      "7\n",
      "8\n",
      "9\n",
      "10\n",
      "11\n",
      "12\n",
      "13\n",
      "14\n",
      "15\n",
      "16\n",
      "17\n",
      "18\n",
      "19\n",
      "20\n",
      "21\n",
      "22\n",
      "23\n",
      "24\n",
      "25\n",
      "26\n",
      "27\n",
      "28\n",
      "29\n",
      "30\n",
      "31\n",
      "32\n",
      "33\n",
      "34\n",
      "35\n",
      "36\n",
      "37\n",
      "38\n",
      "39\n",
      "40\n",
      "41\n",
      "42\n",
      "43\n",
      "44\n",
      "45\n",
      "46\n",
      "47\n",
      "48\n",
      "49\n",
      "50\n",
      "51\n",
      "52\n",
      "53\n",
      "54\n",
      "55\n",
      "56\n",
      "57\n",
      "58\n",
      "59\n",
      "60\n",
      "61\n",
      "62\n",
      "63\n",
      "64\n",
      "65\n",
      "66\n",
      "67\n",
      "68\n",
      "69\n",
      "70\n",
      "71\n",
      "72\n",
      "73\n",
      "74\n",
      "75\n",
      "76\n",
      "77\n",
      "78\n",
      "79\n",
      "80\n",
      "81\n",
      "82\n",
      "83\n",
      "84\n",
      "85\n",
      "86\n",
      "87\n",
      "88\n",
      "89\n",
      "90\n",
      "91\n",
      "92\n",
      "93\n",
      "94\n",
      "95\n",
      "96\n",
      "97\n",
      "98\n",
      "99\n",
      "100\n",
      "101\n",
      "102\n",
      "103\n",
      "104\n",
      "105\n",
      "106\n",
      "107\n",
      "108\n",
      "109\n",
      "110\n",
      "111\n",
      "112\n",
      "113\n",
      "114\n",
      "115\n",
      "116\n",
      "117\n",
      "118\n",
      "119\n",
      "120\n"
     ]
    }
   ],
   "source": [
    "for x in test_game.GetValidMoves():\n",
    "    print(x)\n",
    "    test_game.MakeMove(x)"
   ]
  },
  {
   "cell_type": "code",
   "execution_count": 57,
   "metadata": {},
   "outputs": [
    {
     "data": {
      "text/plain": [
       "0"
      ]
     },
     "execution_count": 57,
     "metadata": {},
     "output_type": "execute_result"
    }
   ],
   "source": [
    "test_game.GameState"
   ]
  },
  {
   "cell_type": "code",
   "execution_count": null,
   "metadata": {},
   "outputs": [],
   "source": []
  },
  {
   "cell_type": "code",
   "execution_count": null,
   "metadata": {},
   "outputs": [],
   "source": []
  }
 ],
 "metadata": {
  "kernelspec": {
   "display_name": "Python 3",
   "language": "python",
   "name": "python3"
  },
  "language_info": {
   "codemirror_mode": {
    "name": "ipython",
    "version": 3
   },
   "file_extension": ".py",
   "mimetype": "text/x-python",
   "name": "python",
   "nbconvert_exporter": "python",
   "pygments_lexer": "ipython3",
   "version": "3.5.4"
  }
 },
 "nbformat": 4,
 "nbformat_minor": 2
}
