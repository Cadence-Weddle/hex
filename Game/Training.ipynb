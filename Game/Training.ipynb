{
 "cells": [
  {
   "cell_type": "code",
   "execution_count": 1,
   "metadata": {},
   "outputs": [
    {
     "name": "stderr",
     "output_type": "stream",
     "text": [
      "Using TensorFlow backend.\n"
     ]
    }
   ],
   "source": [
    "import AI.TreeSearch.MonteCarloTreeSearch as Mcts\n",
    "import AI.GameLogic.GameLogic as GameLogic\n",
    "import AI.NeuralNetwork.NeuralNetwork as NeN\n",
    "from imp import reload\n",
    "import numpy as np\n",
    "import keras\n",
    "import copy\n",
    "import random"
   ]
  },
  {
   "cell_type": "code",
   "execution_count": 2,
   "metadata": {},
   "outputs": [],
   "source": [
    "def drop(array):\n",
    "    state = random.getstate()\n",
    "    out = []\n",
    "    for item in array:\n",
    "        if random.choice([0] + [1 for x in range(19)]):\n",
    "            out.append(item)\n",
    "    random.setstate(state)\n",
    "    return out"
   ]
  },
  {
   "cell_type": "code",
   "execution_count": 3,
   "metadata": {},
   "outputs": [],
   "source": [
    "reload(NeN)\n",
    "NN = NeN.NeuralNetwork"
   ]
  },
  {
   "cell_type": "code",
   "execution_count": 4,
   "metadata": {},
   "outputs": [],
   "source": [
    "reload(GameLogic)\n",
    "Game = GameLogic.Game"
   ]
  },
  {
   "cell_type": "code",
   "execution_count": 5,
   "metadata": {},
   "outputs": [],
   "source": [
    "reload(Mcts)\n",
    "MCTS = Mcts.MonteCarloTreeSearch\n",
    "argmax = Mcts.argmax\n"
   ]
  },
  {
   "cell_type": "code",
   "execution_count": 6,
   "metadata": {},
   "outputs": [],
   "source": [
    "iData = []\n",
    "pData = []\n",
    "vData = []\n",
    "filepath = \"AI\\\\NeuralNetwork\\\\SavedModel.h5\""
   ]
  },
  {
   "cell_type": "code",
   "execution_count": 7,
   "metadata": {},
   "outputs": [
    {
     "name": "stdout",
     "output_type": "stream",
     "text": [
      "<AI.NeuralNetwork.NeuralNetwork.NeuralNetwork object at 0x00000215753C3B38>\n"
     ]
    }
   ],
   "source": [
    "nn = NeN.NNCreater(keras.models.load_model(filepath))"
   ]
  },
  {
   "cell_type": "code",
   "execution_count": 8,
   "metadata": {
    "scrolled": true
   },
   "outputs": [],
   "source": [
    "def gen_match(model):\n",
    "    mcts = MCTS(Game(), model)\n",
    "    while not mcts.game.GameState:\n",
    "        mcts.turn(500)\n",
    "    return mcts.train(0.99)\n",
    "a = []"
   ]
  },
  {
   "cell_type": "code",
   "execution_count": 9,
   "metadata": {
    "scrolled": true
   },
   "outputs": [],
   "source": [
    "def train(iter, nn):    \n",
    "    a = []\n",
    "    iData = []\n",
    "    pData = []\n",
    "    vData = []\n",
    "    for i in range(iter):\n",
    "        print(i)\n",
    "        d = gen_match(nn)\n",
    "        a += d\n",
    "\n",
    "        print(\"Finished iter {}\".format(i))\n",
    "    #random.shuffle(a)\n",
    "    iData += a[0]\n",
    "    pData += a[1]\n",
    "    vData += a[2]\n",
    "    \n",
    "    nn.train_model(np.array(iData), np.array(vData), np.array(pData))\n",
    "    nn.model.save(filepath)\n"
   ]
  },
  {
   "cell_type": "code",
   "execution_count": 10,
   "metadata": {
    "scrolled": true
   },
   "outputs": [
    {
     "name": "stdout",
     "output_type": "stream",
     "text": [
      "0\n",
      "An error occured while type Checking; parent : None, type(self) : <class 'AI.TreeSearch.MonteCarloTreeSearch.MCTS_Node'>\n",
      "Finished iter 0\n",
      "1\n",
      "An error occured while type Checking; parent : None, type(self) : <class 'AI.TreeSearch.MonteCarloTreeSearch.MCTS_Node'>\n",
      "Finished iter 1\n",
      "2\n",
      "An error occured while type Checking; parent : None, type(self) : <class 'AI.TreeSearch.MonteCarloTreeSearch.MCTS_Node'>\n",
      "Finished iter 2\n",
      "3\n",
      "An error occured while type Checking; parent : None, type(self) : <class 'AI.TreeSearch.MonteCarloTreeSearch.MCTS_Node'>\n",
      "Finished iter 3\n",
      "4\n",
      "An error occured while type Checking; parent : None, type(self) : <class 'AI.TreeSearch.MonteCarloTreeSearch.MCTS_Node'>\n",
      "Finished iter 4\n",
      "5\n",
      "An error occured while type Checking; parent : None, type(self) : <class 'AI.TreeSearch.MonteCarloTreeSearch.MCTS_Node'>\n",
      "Finished iter 5\n",
      "6\n",
      "An error occured while type Checking; parent : None, type(self) : <class 'AI.TreeSearch.MonteCarloTreeSearch.MCTS_Node'>\n",
      "Finished iter 6\n",
      "7\n",
      "An error occured while type Checking; parent : None, type(self) : <class 'AI.TreeSearch.MonteCarloTreeSearch.MCTS_Node'>\n",
      "Finished iter 7\n",
      "8\n",
      "An error occured while type Checking; parent : None, type(self) : <class 'AI.TreeSearch.MonteCarloTreeSearch.MCTS_Node'>\n",
      "Finished iter 8\n",
      "9\n",
      "An error occured while type Checking; parent : None, type(self) : <class 'AI.TreeSearch.MonteCarloTreeSearch.MCTS_Node'>\n",
      "Finished iter 9\n",
      "Epoch 1/10\n",
      "89/89 [==============================] - 1s 12ms/step - loss: 4.1811 - policy_output_loss: 4.3093 - value_output_loss: -0.1282\n",
      "Epoch 2/10\n",
      "89/89 [==============================] - 0s 1ms/step - loss: 4.1808 - policy_output_loss: 4.3090 - value_output_loss: -0.1282\n",
      "Epoch 3/10\n",
      "89/89 [==============================] - 0s 1ms/step - loss: 4.1720 - policy_output_loss: 4.3002 - value_output_loss: -0.1282\n",
      "Epoch 4/10\n",
      "89/89 [==============================] - 0s 1ms/step - loss: 4.1675 - policy_output_loss: 4.2957 - value_output_loss: -0.1282\n",
      "Epoch 5/10\n",
      "89/89 [==============================] - 0s 1ms/step - loss: 4.1599 - policy_output_loss: 4.2882 - value_output_loss: -0.1282\n",
      "Epoch 6/10\n",
      "89/89 [==============================] - 0s 1ms/step - loss: 4.1512 - policy_output_loss: 4.2794 - value_output_loss: -0.1282\n",
      "Epoch 7/10\n",
      "89/89 [==============================] - 0s 1ms/step - loss: 4.1441 - policy_output_loss: 4.2723 - value_output_loss: -0.1282\n",
      "Epoch 8/10\n",
      "89/89 [==============================] - 0s 1ms/step - loss: 4.1347 - policy_output_loss: 4.2629 - value_output_loss: -0.1282\n",
      "Epoch 9/10\n",
      "89/89 [==============================] - 0s 1ms/step - loss: 4.1253 - policy_output_loss: 4.2535 - value_output_loss: -0.1282\n",
      "Epoch 10/10\n",
      "89/89 [==============================] - 0s 1ms/step - loss: 4.1153 - policy_output_loss: 4.2435 - value_output_loss: -0.1282\n",
      "Iter 0 done.\n",
      "0\n",
      "An error occured while type Checking; parent : None, type(self) : <class 'AI.TreeSearch.MonteCarloTreeSearch.MCTS_Node'>\n",
      "Finished iter 0\n",
      "1\n",
      "An error occured while type Checking; parent : None, type(self) : <class 'AI.TreeSearch.MonteCarloTreeSearch.MCTS_Node'>\n",
      "Finished iter 1\n",
      "2\n",
      "An error occured while type Checking; parent : None, type(self) : <class 'AI.TreeSearch.MonteCarloTreeSearch.MCTS_Node'>\n",
      "Finished iter 2\n",
      "3\n",
      "An error occured while type Checking; parent : None, type(self) : <class 'AI.TreeSearch.MonteCarloTreeSearch.MCTS_Node'>\n",
      "Finished iter 3\n",
      "4\n",
      "An error occured while type Checking; parent : None, type(self) : <class 'AI.TreeSearch.MonteCarloTreeSearch.MCTS_Node'>\n",
      "Finished iter 4\n",
      "5\n",
      "An error occured while type Checking; parent : None, type(self) : <class 'AI.TreeSearch.MonteCarloTreeSearch.MCTS_Node'>\n",
      "Finished iter 5\n",
      "6\n",
      "An error occured while type Checking; parent : None, type(self) : <class 'AI.TreeSearch.MonteCarloTreeSearch.MCTS_Node'>\n",
      "Finished iter 6\n",
      "7\n",
      "An error occured while type Checking; parent : None, type(self) : <class 'AI.TreeSearch.MonteCarloTreeSearch.MCTS_Node'>\n",
      "Finished iter 7\n",
      "8\n",
      "An error occured while type Checking; parent : None, type(self) : <class 'AI.TreeSearch.MonteCarloTreeSearch.MCTS_Node'>\n",
      "Finished iter 8\n",
      "9\n",
      "An error occured while type Checking; parent : None, type(self) : <class 'AI.TreeSearch.MonteCarloTreeSearch.MCTS_Node'>\n",
      "Finished iter 9\n",
      "Epoch 1/10\n",
      "106/106 [==============================] - 0s 1ms/step - loss: 3.8985 - policy_output_loss: 3.8484 - value_output_loss: 0.0501\n",
      "Epoch 2/10\n",
      "106/106 [==============================] - 0s 1ms/step - loss: 3.8919 - policy_output_loss: 3.8418 - value_output_loss: 0.0501\n",
      "Epoch 3/10\n",
      "106/106 [==============================] - 0s 1ms/step - loss: 3.8807 - policy_output_loss: 3.8307 - value_output_loss: 0.0501\n",
      "Epoch 4/10\n",
      "106/106 [==============================] - 0s 1ms/step - loss: 3.8655 - policy_output_loss: 3.8154 - value_output_loss: 0.0501\n",
      "Epoch 5/10\n",
      "106/106 [==============================] - 0s 1ms/step - loss: 3.8584 - policy_output_loss: 3.8083 - value_output_loss: 0.0501\n",
      "Epoch 6/10\n",
      "106/106 [==============================] - 0s 1ms/step - loss: 3.8416 - policy_output_loss: 3.7915 - value_output_loss: 0.0501\n",
      "Epoch 7/10\n",
      "106/106 [==============================] - 0s 1ms/step - loss: 3.8270 - policy_output_loss: 3.7769 - value_output_loss: 0.0501\n",
      "Epoch 8/10\n",
      "106/106 [==============================] - 0s 1ms/step - loss: 3.8179 - policy_output_loss: 3.7678 - value_output_loss: 0.0501\n",
      "Epoch 9/10\n",
      "106/106 [==============================] - 0s 993us/step - loss: 3.7995 - policy_output_loss: 3.7494 - value_output_loss: 0.0501\n",
      "Epoch 10/10\n",
      "106/106 [==============================] - 0s 1ms/step - loss: 3.7875 - policy_output_loss: 3.7374 - value_output_loss: 0.0501\n",
      "Iter 1 done.\n",
      "0\n",
      "An error occured while type Checking; parent : None, type(self) : <class 'AI.TreeSearch.MonteCarloTreeSearch.MCTS_Node'>\n",
      "Finished iter 0\n",
      "1\n",
      "An error occured while type Checking; parent : None, type(self) : <class 'AI.TreeSearch.MonteCarloTreeSearch.MCTS_Node'>\n",
      "Finished iter 1\n",
      "2\n",
      "An error occured while type Checking; parent : None, type(self) : <class 'AI.TreeSearch.MonteCarloTreeSearch.MCTS_Node'>\n",
      "Finished iter 2\n",
      "3\n",
      "An error occured while type Checking; parent : None, type(self) : <class 'AI.TreeSearch.MonteCarloTreeSearch.MCTS_Node'>\n",
      "Finished iter 3\n",
      "4\n",
      "An error occured while type Checking; parent : None, type(self) : <class 'AI.TreeSearch.MonteCarloTreeSearch.MCTS_Node'>\n",
      "Finished iter 4\n",
      "5\n",
      "An error occured while type Checking; parent : None, type(self) : <class 'AI.TreeSearch.MonteCarloTreeSearch.MCTS_Node'>\n",
      "Finished iter 5\n",
      "6\n",
      "An error occured while type Checking; parent : None, type(self) : <class 'AI.TreeSearch.MonteCarloTreeSearch.MCTS_Node'>\n",
      "Finished iter 6\n",
      "7\n",
      "An error occured while type Checking; parent : None, type(self) : <class 'AI.TreeSearch.MonteCarloTreeSearch.MCTS_Node'>\n",
      "Finished iter 7\n",
      "8\n",
      "An error occured while type Checking; parent : None, type(self) : <class 'AI.TreeSearch.MonteCarloTreeSearch.MCTS_Node'>\n",
      "Finished iter 8\n",
      "9\n",
      "An error occured while type Checking; parent : None, type(self) : <class 'AI.TreeSearch.MonteCarloTreeSearch.MCTS_Node'>\n",
      "Finished iter 9\n",
      "Epoch 1/10\n",
      "53/53 [==============================] - 0s 1ms/step - loss: 4.4611 - policy_output_loss: 4.7036 - value_output_loss: -0.2425\n",
      "Epoch 2/10\n",
      "53/53 [==============================] - 0s 1ms/step - loss: 4.4609 - policy_output_loss: 4.7034 - value_output_loss: -0.2425\n",
      "Epoch 3/10\n",
      "53/53 [==============================] - 0s 1ms/step - loss: 4.4595 - policy_output_loss: 4.7020 - value_output_loss: -0.2425\n",
      "Epoch 4/10\n",
      "53/53 [==============================] - 0s 1ms/step - loss: 4.4570 - policy_output_loss: 4.6995 - value_output_loss: -0.2425\n",
      "Epoch 5/10\n",
      "53/53 [==============================] - 0s 1ms/step - loss: 4.4536 - policy_output_loss: 4.6961 - value_output_loss: -0.2425\n",
      "Epoch 6/10\n",
      "53/53 [==============================] - 0s 1ms/step - loss: 4.4495 - policy_output_loss: 4.6920 - value_output_loss: -0.2425\n",
      "Epoch 7/10\n",
      "53/53 [==============================] - 0s 1ms/step - loss: 4.4447 - policy_output_loss: 4.6872 - value_output_loss: -0.2425\n",
      "Epoch 8/10\n",
      "53/53 [==============================] - 0s 1ms/step - loss: 4.4396 - policy_output_loss: 4.6822 - value_output_loss: -0.2425\n",
      "Epoch 9/10\n",
      "53/53 [==============================] - 0s 1ms/step - loss: 4.4342 - policy_output_loss: 4.6768 - value_output_loss: -0.2425\n",
      "Epoch 10/10\n"
     ]
    },
    {
     "name": "stdout",
     "output_type": "stream",
     "text": [
      "53/53 [==============================] - 0s 1ms/step - loss: 4.4287 - policy_output_loss: 4.6712 - value_output_loss: -0.2425\n",
      "Iter 2 done.\n",
      "0\n",
      "An error occured while type Checking; parent : None, type(self) : <class 'AI.TreeSearch.MonteCarloTreeSearch.MCTS_Node'>\n",
      "Finished iter 0\n",
      "1\n",
      "An error occured while type Checking; parent : None, type(self) : <class 'AI.TreeSearch.MonteCarloTreeSearch.MCTS_Node'>\n",
      "Finished iter 1\n",
      "2\n",
      "An error occured while type Checking; parent : None, type(self) : <class 'AI.TreeSearch.MonteCarloTreeSearch.MCTS_Node'>\n",
      "Finished iter 2\n",
      "3\n",
      "An error occured while type Checking; parent : None, type(self) : <class 'AI.TreeSearch.MonteCarloTreeSearch.MCTS_Node'>\n",
      "Finished iter 3\n",
      "4\n",
      "An error occured while type Checking; parent : None, type(self) : <class 'AI.TreeSearch.MonteCarloTreeSearch.MCTS_Node'>\n",
      "Finished iter 4\n",
      "5\n",
      "An error occured while type Checking; parent : None, type(self) : <class 'AI.TreeSearch.MonteCarloTreeSearch.MCTS_Node'>\n",
      "Finished iter 5\n",
      "6\n",
      "An error occured while type Checking; parent : None, type(self) : <class 'AI.TreeSearch.MonteCarloTreeSearch.MCTS_Node'>\n",
      "Finished iter 6\n",
      "7\n",
      "An error occured while type Checking; parent : None, type(self) : <class 'AI.TreeSearch.MonteCarloTreeSearch.MCTS_Node'>\n",
      "Finished iter 7\n",
      "8\n",
      "An error occured while type Checking; parent : None, type(self) : <class 'AI.TreeSearch.MonteCarloTreeSearch.MCTS_Node'>\n",
      "Finished iter 8\n",
      "9\n",
      "An error occured while type Checking; parent : None, type(self) : <class 'AI.TreeSearch.MonteCarloTreeSearch.MCTS_Node'>\n",
      "Finished iter 9\n",
      "Epoch 1/10\n",
      "108/108 [==============================] - 0s 1ms/step - loss: 4.6928 - policy_output_loss: 4.6432 - value_output_loss: 0.0497\n",
      "Epoch 2/10\n",
      "108/108 [==============================] - 0s 1ms/step - loss: 4.6783 - policy_output_loss: 4.6287 - value_output_loss: 0.0497\n",
      "Epoch 3/10\n",
      "108/108 [==============================] - 0s 1ms/step - loss: 4.6616 - policy_output_loss: 4.6120 - value_output_loss: 0.0497\n",
      "Epoch 4/10\n",
      "108/108 [==============================] - 0s 1ms/step - loss: 4.6414 - policy_output_loss: 4.5917 - value_output_loss: 0.0497\n",
      "Epoch 5/10\n",
      "108/108 [==============================] - 0s 1ms/step - loss: 4.6179 - policy_output_loss: 4.5682 - value_output_loss: 0.0497\n",
      "Epoch 6/10\n",
      "108/108 [==============================] - 0s 1ms/step - loss: 4.5942 - policy_output_loss: 4.5445 - value_output_loss: 0.0497\n",
      "Epoch 7/10\n",
      "108/108 [==============================] - 0s 1ms/step - loss: 4.5755 - policy_output_loss: 4.5259 - value_output_loss: 0.0497\n",
      "Epoch 8/10\n",
      "108/108 [==============================] - 0s 1ms/step - loss: 4.5581 - policy_output_loss: 4.5084 - value_output_loss: 0.0497\n",
      "Epoch 9/10\n",
      "108/108 [==============================] - 0s 1ms/step - loss: 4.5365 - policy_output_loss: 4.4869 - value_output_loss: 0.0497\n",
      "Epoch 10/10\n",
      "108/108 [==============================] - 0s 1ms/step - loss: 4.5223 - policy_output_loss: 4.4726 - value_output_loss: 0.0497\n",
      "Iter 3 done.\n",
      "0\n",
      "An error occured while type Checking; parent : None, type(self) : <class 'AI.TreeSearch.MonteCarloTreeSearch.MCTS_Node'>\n",
      "Finished iter 0\n",
      "1\n",
      "An error occured while type Checking; parent : None, type(self) : <class 'AI.TreeSearch.MonteCarloTreeSearch.MCTS_Node'>\n",
      "Finished iter 1\n",
      "2\n",
      "An error occured while type Checking; parent : None, type(self) : <class 'AI.TreeSearch.MonteCarloTreeSearch.MCTS_Node'>\n",
      "Finished iter 2\n",
      "3\n",
      "An error occured while type Checking; parent : None, type(self) : <class 'AI.TreeSearch.MonteCarloTreeSearch.MCTS_Node'>\n"
     ]
    },
    {
     "ename": "Exception",
     "evalue": "Something Bad Happened",
     "output_type": "error",
     "traceback": [
      "\u001b[1;31m---------------------------------------------------------------------------\u001b[0m",
      "\u001b[1;31mException\u001b[0m                                 Traceback (most recent call last)",
      "\u001b[1;32m<ipython-input-10-68b885debf56>\u001b[0m in \u001b[0;36m<module>\u001b[1;34m()\u001b[0m\n\u001b[0;32m      1\u001b[0m \u001b[1;32mfor\u001b[0m \u001b[0mi\u001b[0m \u001b[1;32min\u001b[0m \u001b[0mrange\u001b[0m\u001b[1;33m(\u001b[0m\u001b[1;36m30\u001b[0m\u001b[1;33m)\u001b[0m\u001b[1;33m:\u001b[0m\u001b[1;33m\u001b[0m\u001b[0m\n\u001b[1;32m----> 2\u001b[1;33m     \u001b[0mtrain\u001b[0m\u001b[1;33m(\u001b[0m\u001b[1;36m10\u001b[0m\u001b[1;33m,\u001b[0m \u001b[0mnn\u001b[0m\u001b[1;33m)\u001b[0m\u001b[1;33m\u001b[0m\u001b[0m\n\u001b[0m\u001b[0;32m      3\u001b[0m     \u001b[0mprint\u001b[0m\u001b[1;33m(\u001b[0m\u001b[1;34m\"Iter {} done.\"\u001b[0m\u001b[1;33m.\u001b[0m\u001b[0mformat\u001b[0m\u001b[1;33m(\u001b[0m\u001b[0mi\u001b[0m\u001b[1;33m)\u001b[0m\u001b[1;33m)\u001b[0m\u001b[1;33m\u001b[0m\u001b[0m\n",
      "\u001b[1;32m<ipython-input-9-3a438109a022>\u001b[0m in \u001b[0;36mtrain\u001b[1;34m(iter, nn)\u001b[0m\n\u001b[0;32m      6\u001b[0m     \u001b[1;32mfor\u001b[0m \u001b[0mi\u001b[0m \u001b[1;32min\u001b[0m \u001b[0mrange\u001b[0m\u001b[1;33m(\u001b[0m\u001b[0miter\u001b[0m\u001b[1;33m)\u001b[0m\u001b[1;33m:\u001b[0m\u001b[1;33m\u001b[0m\u001b[0m\n\u001b[0;32m      7\u001b[0m         \u001b[0mprint\u001b[0m\u001b[1;33m(\u001b[0m\u001b[0mi\u001b[0m\u001b[1;33m)\u001b[0m\u001b[1;33m\u001b[0m\u001b[0m\n\u001b[1;32m----> 8\u001b[1;33m         \u001b[0md\u001b[0m \u001b[1;33m=\u001b[0m \u001b[0mgen_match\u001b[0m\u001b[1;33m(\u001b[0m\u001b[0mnn\u001b[0m\u001b[1;33m)\u001b[0m\u001b[1;33m\u001b[0m\u001b[0m\n\u001b[0m\u001b[0;32m      9\u001b[0m         \u001b[0ma\u001b[0m \u001b[1;33m+=\u001b[0m \u001b[0md\u001b[0m\u001b[1;33m\u001b[0m\u001b[0m\n\u001b[0;32m     10\u001b[0m \u001b[1;33m\u001b[0m\u001b[0m\n",
      "\u001b[1;32m<ipython-input-8-a39cc3db2a81>\u001b[0m in \u001b[0;36mgen_match\u001b[1;34m(model)\u001b[0m\n\u001b[0;32m      2\u001b[0m     \u001b[0mmcts\u001b[0m \u001b[1;33m=\u001b[0m \u001b[0mMCTS\u001b[0m\u001b[1;33m(\u001b[0m\u001b[0mGame\u001b[0m\u001b[1;33m(\u001b[0m\u001b[1;33m)\u001b[0m\u001b[1;33m,\u001b[0m \u001b[0mmodel\u001b[0m\u001b[1;33m)\u001b[0m\u001b[1;33m\u001b[0m\u001b[0m\n\u001b[0;32m      3\u001b[0m     \u001b[1;32mwhile\u001b[0m \u001b[1;32mnot\u001b[0m \u001b[0mmcts\u001b[0m\u001b[1;33m.\u001b[0m\u001b[0mgame\u001b[0m\u001b[1;33m.\u001b[0m\u001b[0mGameState\u001b[0m\u001b[1;33m:\u001b[0m\u001b[1;33m\u001b[0m\u001b[0m\n\u001b[1;32m----> 4\u001b[1;33m         \u001b[0mmcts\u001b[0m\u001b[1;33m.\u001b[0m\u001b[0mturn\u001b[0m\u001b[1;33m(\u001b[0m\u001b[1;36m500\u001b[0m\u001b[1;33m)\u001b[0m\u001b[1;33m\u001b[0m\u001b[0m\n\u001b[0m\u001b[0;32m      5\u001b[0m     \u001b[1;32mreturn\u001b[0m \u001b[0mmcts\u001b[0m\u001b[1;33m.\u001b[0m\u001b[0mtrain\u001b[0m\u001b[1;33m(\u001b[0m\u001b[1;36m0.99\u001b[0m\u001b[1;33m)\u001b[0m\u001b[1;33m\u001b[0m\u001b[0m\n\u001b[0;32m      6\u001b[0m \u001b[0ma\u001b[0m \u001b[1;33m=\u001b[0m \u001b[1;33m[\u001b[0m\u001b[1;33m]\u001b[0m\u001b[1;33m\u001b[0m\u001b[0m\n",
      "\u001b[1;32m~\\Desktop\\GitHub\\hex.github.io\\Game\\AI\\TreeSearch\\MonteCarloTreeSearch.py\u001b[0m in \u001b[0;36mturn\u001b[1;34m(self, ComputeTime, convert_to_root)\u001b[0m\n\u001b[0;32m    190\u001b[0m                 \u001b[0mstart\u001b[0m \u001b[1;33m=\u001b[0m \u001b[0mtime\u001b[0m\u001b[1;33m.\u001b[0m\u001b[0mtime\u001b[0m\u001b[1;33m(\u001b[0m\u001b[1;33m)\u001b[0m\u001b[1;33m\u001b[0m\u001b[0m\n\u001b[0;32m    191\u001b[0m                 \u001b[1;32mwhile\u001b[0m \u001b[0mtime\u001b[0m\u001b[1;33m.\u001b[0m\u001b[0mtime\u001b[0m\u001b[1;33m(\u001b[0m\u001b[1;33m)\u001b[0m \u001b[1;33m-\u001b[0m \u001b[0mstart\u001b[0m \u001b[1;33m<\u001b[0m \u001b[0mComputeTime\u001b[0m \u001b[1;33m/\u001b[0m \u001b[1;36m1000\u001b[0m\u001b[1;33m:\u001b[0m\u001b[1;33m\u001b[0m\u001b[0m\n\u001b[1;32m--> 192\u001b[1;33m                         \u001b[0mself\u001b[0m\u001b[1;33m.\u001b[0m\u001b[0mback_prop\u001b[0m\u001b[1;33m(\u001b[0m\u001b[0mself\u001b[0m\u001b[1;33m.\u001b[0m\u001b[0mexpand_and_eval\u001b[0m\u001b[1;33m(\u001b[0m\u001b[0mself\u001b[0m\u001b[1;33m.\u001b[0m\u001b[0mselect\u001b[0m\u001b[1;33m(\u001b[0m\u001b[1;33m)\u001b[0m\u001b[1;33m)\u001b[0m\u001b[1;33m)\u001b[0m\u001b[1;33m\u001b[0m\u001b[0m\n\u001b[0m\u001b[0;32m    193\u001b[0m                 \u001b[0mnode\u001b[0m \u001b[1;33m=\u001b[0m \u001b[0margmax\u001b[0m\u001b[1;33m(\u001b[0m\u001b[0mself\u001b[0m\u001b[1;33m.\u001b[0m\u001b[0mroot_node\u001b[0m\u001b[1;33m.\u001b[0m\u001b[0msubnodes\u001b[0m\u001b[1;33m)\u001b[0m\u001b[1;33m\u001b[0m\u001b[0m\n\u001b[0;32m    194\u001b[0m                 \u001b[0mmove\u001b[0m \u001b[1;33m=\u001b[0m \u001b[0mnode\u001b[0m\u001b[1;33m.\u001b[0m\u001b[0mmove\u001b[0m\u001b[1;33m\u001b[0m\u001b[0m\n",
      "\u001b[1;32m~\\Desktop\\GitHub\\hex.github.io\\Game\\AI\\TreeSearch\\MonteCarloTreeSearch.py\u001b[0m in \u001b[0;36mselect\u001b[1;34m(self)\u001b[0m\n\u001b[0;32m    172\u001b[0m                                 \u001b[1;32mbreak\u001b[0m\u001b[1;33m\u001b[0m\u001b[0m\n\u001b[0;32m    173\u001b[0m                         \u001b[1;32mif\u001b[0m \u001b[0mcurr_node\u001b[0m\u001b[1;33m.\u001b[0m\u001b[0msubnodes\u001b[0m \u001b[1;33m==\u001b[0m \u001b[1;33m[\u001b[0m\u001b[1;33m]\u001b[0m\u001b[1;33m:\u001b[0m\u001b[1;33m\u001b[0m\u001b[0m\n\u001b[1;32m--> 174\u001b[1;33m                                 \u001b[1;32mraise\u001b[0m \u001b[0mException\u001b[0m\u001b[1;33m(\u001b[0m\u001b[1;34m\"Something Bad Happened\"\u001b[0m\u001b[1;33m)\u001b[0m\u001b[1;33m\u001b[0m\u001b[0m\n\u001b[0m\u001b[0;32m    175\u001b[0m                         \u001b[0mcurr_node\u001b[0m \u001b[1;33m=\u001b[0m \u001b[0margmax\u001b[0m\u001b[1;33m(\u001b[0m\u001b[1;33m[\u001b[0m\u001b[0mnode\u001b[0m \u001b[1;32mfor\u001b[0m \u001b[0mnode\u001b[0m \u001b[1;32min\u001b[0m \u001b[0mcurr_node\u001b[0m\u001b[1;33m.\u001b[0m\u001b[0msubnodes\u001b[0m \u001b[1;32mif\u001b[0m \u001b[1;32mnot\u001b[0m \u001b[0mnode\u001b[0m\u001b[1;33m.\u001b[0m\u001b[0mgame\u001b[0m\u001b[1;33m.\u001b[0m\u001b[0mGameState\u001b[0m\u001b[1;33m]\u001b[0m\u001b[1;33m)\u001b[0m\u001b[1;33m\u001b[0m\u001b[0m\n\u001b[0;32m    176\u001b[0m                         \u001b[0mcurr_node\u001b[0m\u001b[1;33m.\u001b[0m\u001b[0mvisit_count\u001b[0m \u001b[1;33m+=\u001b[0m \u001b[1;36m1\u001b[0m\u001b[1;33m\u001b[0m\u001b[0m\n",
      "\u001b[1;31mException\u001b[0m: Something Bad Happened"
     ]
    }
   ],
   "source": [
    "for i in range(30):\n",
    "    train(10, nn)\n",
    "    print(\"Iter {} done.\".format(i))"
   ]
  },
  {
   "cell_type": "code",
   "execution_count": null,
   "metadata": {},
   "outputs": [],
   "source": [
    "nn.model.save(filepath)"
   ]
  },
  {
   "cell_type": "code",
   "execution_count": null,
   "metadata": {},
   "outputs": [],
   "source": []
  },
  {
   "cell_type": "code",
   "execution_count": null,
   "metadata": {},
   "outputs": [],
   "source": []
  }
 ],
 "metadata": {
  "kernelspec": {
   "display_name": "Python 3",
   "language": "python",
   "name": "python3"
  },
  "language_info": {
   "codemirror_mode": {
    "name": "ipython",
    "version": 3
   },
   "file_extension": ".py",
   "mimetype": "text/x-python",
   "name": "python",
   "nbconvert_exporter": "python",
   "pygments_lexer": "ipython3",
   "version": "3.5.4"
  }
 },
 "nbformat": 4,
 "nbformat_minor": 2
}
