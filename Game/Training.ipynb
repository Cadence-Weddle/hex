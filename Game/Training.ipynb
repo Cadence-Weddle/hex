{
 "cells": [
  {
   "cell_type": "code",
   "execution_count": 1,
   "metadata": {},
   "outputs": [
    {
     "name": "stderr",
     "output_type": "stream",
     "text": [
      "Using TensorFlow backend.\n"
     ]
    }
   ],
   "source": [
    "import AI.TreeSearch.MonteCarloTreeSearch as Mcts\n",
    "import AI.GameLogic.GameLogic as GameLogic\n",
    "import AI.NeuralNetwork.NeuralNetwork as NeN\n",
    "from imp import reload\n",
    "import numpy as np\n",
    "import keras"
   ]
  },
  {
   "cell_type": "code",
   "execution_count": 2,
   "metadata": {},
   "outputs": [],
   "source": [
    "reload(NeN)\n",
    "NN = NeN.NeuralNetwork"
   ]
  },
  {
   "cell_type": "code",
   "execution_count": 3,
   "metadata": {},
   "outputs": [],
   "source": [
    "reload(GameLogic)\n",
    "Game = GameLogic.Game"
   ]
  },
  {
   "cell_type": "code",
   "execution_count": 4,
   "metadata": {},
   "outputs": [],
   "source": [
    "reload(Mcts)\n",
    "MCTS = Mcts.MonteCarloTreeSearch\n",
    "argmax = Mcts.argmax\n"
   ]
  },
  {
   "cell_type": "code",
   "execution_count": 5,
   "metadata": {},
   "outputs": [],
   "source": [
    "iData = []\n",
    "pData = []\n",
    "vData = []\n",
    "filepath = \"AI\\\\NeuralNetwork\\\\SavedModel.h5\""
   ]
  },
  {
   "cell_type": "code",
   "execution_count": 6,
   "metadata": {},
   "outputs": [
    {
     "name": "stdout",
     "output_type": "stream",
     "text": [
      "<AI.NeuralNetwork.NeuralNetwork.NeuralNetwork object at 0x00000152C2D0C160>\n"
     ]
    }
   ],
   "source": [
    "nn = NeN.NNCreater(keras.models.load_model(filepath))"
   ]
  },
  {
   "cell_type": "code",
   "execution_count": null,
   "metadata": {
    "scrolled": true
   },
   "outputs": [],
   "source": [
    "def gen_match(model):\n",
    "    mcts = MCTS(Game(), model)\n",
    "    while not mcts.game.GameState:\n",
    "        mcts.turn(500)\n",
    "    return mcts.train(0.99)"
   ]
  },
  {
   "cell_type": "code",
   "execution_count": null,
   "metadata": {
    "scrolled": false
   },
   "outputs": [
    {
     "name": "stdout",
     "output_type": "stream",
     "text": [
      "0\n",
      "An error occured while type Checking; parent : None, type(self) : <class 'AI.TreeSearch.MonteCarloTreeSearch.MCTS_Node'>\n",
      "Epoch 1/5\n",
      "99/99 [==============================] - 2s 21ms/step - loss: 4.3072 - policy_output_loss: 4.4082 - value_output_loss: -0.1010\n",
      "Epoch 2/5\n",
      "99/99 [==============================] - 1s 5ms/step - loss: 3.4948 - policy_output_loss: 4.2667 - value_output_loss: -0.7719\n",
      "Epoch 3/5\n",
      "99/99 [==============================] - 1s 5ms/step - loss: 3.2967 - policy_output_loss: 4.0494 - value_output_loss: -0.7527\n",
      "Epoch 4/5\n",
      "99/99 [==============================] - 1s 5ms/step - loss: 2.7866 - policy_output_loss: 3.9238 - value_output_loss: -1.1372\n",
      "Epoch 5/5\n",
      "99/99 [==============================] - 1s 5ms/step - loss: 1.9346 - policy_output_loss: 3.7814 - value_output_loss: -1.8468\n",
      "Finished iter 0\n",
      "1\n",
      "An error occured while type Checking; parent : None, type(self) : <class 'AI.TreeSearch.MonteCarloTreeSearch.MCTS_Node'>\n",
      "Epoch 1/5\n",
      "104/104 [==============================] - 1s 10ms/step - loss: 4.8393 - policy_output_loss: 4.7560 - value_output_loss: 0.0833\n",
      "Epoch 2/5\n",
      "104/104 [==============================] - 1s 5ms/step - loss: 3.5593 - policy_output_loss: 4.6034 - value_output_loss: -1.0442\n",
      "Epoch 3/5\n",
      "104/104 [==============================] - 1s 5ms/step - loss: 2.4336 - policy_output_loss: 4.4572 - value_output_loss: -2.0236\n",
      "Epoch 4/5\n",
      "104/104 [==============================] - 0s 5ms/step - loss: 2.3681 - policy_output_loss: 4.2987 - value_output_loss: -1.9306\n",
      "Epoch 5/5\n",
      "104/104 [==============================] - 1s 5ms/step - loss: 2.3736 - policy_output_loss: 4.1986 - value_output_loss: -1.8250\n",
      "Finished iter 1\n",
      "2\n",
      "An error occured while type Checking; parent : None, type(self) : <class 'AI.TreeSearch.MonteCarloTreeSearch.MCTS_Node'>\n",
      "Epoch 1/5\n",
      "114/114 [==============================] - 1s 11ms/step - loss: -2.2634 - policy_output_loss: -2.0619 - value_output_loss: -0.2015\n",
      "Epoch 2/5\n",
      "114/114 [==============================] - 1s 5ms/step - loss: -6.1679 - policy_output_loss: -5.5243 - value_output_loss: -0.6436\n",
      "Epoch 3/5\n",
      "114/114 [==============================] - 1s 5ms/step - loss: -8.9473 - policy_output_loss: -8.0276 - value_output_loss: -0.9198\n",
      "Epoch 4/5\n",
      "114/114 [==============================] - 1s 5ms/step - loss: -10.4454 - policy_output_loss: -9.3244 - value_output_loss: -1.1209\n",
      "Epoch 5/5\n",
      "114/114 [==============================] - 1s 5ms/step - loss: -12.2725 - policy_output_loss: -10.7570 - value_output_loss: -1.5155\n",
      "Finished iter 2\n",
      "3\n",
      "An error occured while type Checking; parent : None, type(self) : <class 'AI.TreeSearch.MonteCarloTreeSearch.MCTS_Node'>\n",
      "Epoch 1/5\n",
      "101/101 [==============================] - 1s 12ms/step - loss: 3.9144 - policy_output_loss: 4.7142 - value_output_loss: -0.7998\n",
      "Epoch 2/5\n",
      "101/101 [==============================] - 1s 5ms/step - loss: 3.3626 - policy_output_loss: 4.6849 - value_output_loss: -1.3223\n",
      "Epoch 3/5\n",
      "101/101 [==============================] - 1s 5ms/step - loss: 2.6893 - policy_output_loss: 4.6359 - value_output_loss: -1.9466\n",
      "Epoch 4/5\n",
      "101/101 [==============================] - 1s 5ms/step - loss: 2.2006 - policy_output_loss: 4.5987 - value_output_loss: -2.3981\n",
      "Epoch 5/5\n",
      "101/101 [==============================] - 0s 5ms/step - loss: 1.8698 - policy_output_loss: 4.5718 - value_output_loss: -2.7020\n",
      "Finished iter 3\n",
      "4\n",
      "An error occured while type Checking; parent : None, type(self) : <class 'AI.TreeSearch.MonteCarloTreeSearch.MCTS_Node'>\n",
      "Epoch 1/5\n",
      "63/63 [==============================] - 1s 14ms/step - loss: 4.7839 - policy_output_loss: 4.0981 - value_output_loss: 0.6858\n",
      "Epoch 2/5\n",
      "63/63 [==============================] - 0s 5ms/step - loss: 4.3675 - policy_output_loss: 3.9227 - value_output_loss: 0.4448\n",
      "Epoch 3/5\n",
      "63/63 [==============================] - 0s 5ms/step - loss: 3.6404 - policy_output_loss: 3.7623 - value_output_loss: -0.1220\n",
      "Epoch 4/5\n",
      "63/63 [==============================] - 0s 5ms/step - loss: 3.6489 - policy_output_loss: 3.5954 - value_output_loss: 0.0535\n",
      "Epoch 5/5\n",
      "63/63 [==============================] - 0s 5ms/step - loss: 2.8120 - policy_output_loss: 3.4579 - value_output_loss: -0.6459\n",
      "Finished iter 4\n",
      "5\n",
      "An error occured while type Checking; parent : None, type(self) : <class 'AI.TreeSearch.MonteCarloTreeSearch.MCTS_Node'>\n",
      "Epoch 1/5\n",
      "116/116 [==============================] - 1s 10ms/step - loss: 5.4280 - policy_output_loss: 4.4461 - value_output_loss: 0.9819\n",
      "Epoch 2/5\n",
      "116/116 [==============================] - 1s 5ms/step - loss: 4.0100 - policy_output_loss: 4.1368 - value_output_loss: -0.1268\n",
      "Epoch 3/5\n",
      "116/116 [==============================] - 1s 5ms/step - loss: 3.6433 - policy_output_loss: 3.8598 - value_output_loss: -0.2165\n",
      "Epoch 4/5\n",
      "116/116 [==============================] - 1s 5ms/step - loss: 2.9819 - policy_output_loss: 3.6094 - value_output_loss: -0.6274\n",
      "Epoch 5/5\n",
      "116/116 [==============================] - 1s 5ms/step - loss: 2.4264 - policy_output_loss: 3.3045 - value_output_loss: -0.8780\n",
      "Finished iter 5\n",
      "6\n",
      "An error occured while type Checking; parent : None, type(self) : <class 'AI.TreeSearch.MonteCarloTreeSearch.MCTS_Node'>\n",
      "Epoch 1/5\n",
      "118/118 [==============================] - 1s 11ms/step - loss: 5.0365 - policy_output_loss: 5.0994 - value_output_loss: -0.0628\n",
      "Epoch 2/5\n",
      "118/118 [==============================] - 1s 5ms/step - loss: 4.3221 - policy_output_loss: 4.9597 - value_output_loss: -0.6376\n",
      "Epoch 3/5\n",
      "118/118 [==============================] - 1s 5ms/step - loss: 4.1798 - policy_output_loss: 4.8158 - value_output_loss: -0.6360\n",
      "Epoch 4/5\n",
      "118/118 [==============================] - 1s 5ms/step - loss: 3.2683 - policy_output_loss: 4.6916 - value_output_loss: -1.4233\n",
      "Epoch 5/5\n",
      "118/118 [==============================] - 1s 5ms/step - loss: 3.5358 - policy_output_loss: 4.6038 - value_output_loss: -1.0680\n",
      "Finished iter 6\n",
      "7\n",
      "An error occured while type Checking; parent : None, type(self) : <class 'AI.TreeSearch.MonteCarloTreeSearch.MCTS_Node'>\n",
      "Epoch 1/5\n",
      "106/106 [==============================] - 1s 10ms/step - loss: 4.5831 - policy_output_loss: 4.6366 - value_output_loss: -0.0535\n",
      "Epoch 2/5\n",
      "106/106 [==============================] - 1s 5ms/step - loss: 3.3364 - policy_output_loss: 3.8913 - value_output_loss: -0.5549\n",
      "Epoch 3/5\n",
      "106/106 [==============================] - 1s 5ms/step - loss: 2.4988 - policy_output_loss: 3.4283 - value_output_loss: -0.9295\n",
      "Epoch 4/5\n",
      "106/106 [==============================] - 1s 5ms/step - loss: 1.8141 - policy_output_loss: 2.9987 - value_output_loss: -1.1845\n",
      "Epoch 5/5\n",
      "106/106 [==============================] - 1s 5ms/step - loss: 0.9338 - policy_output_loss: 2.5682 - value_output_loss: -1.6345\n",
      "Finished iter 7\n",
      "8\n",
      "An error occured while type Checking; parent : None, type(self) : <class 'AI.TreeSearch.MonteCarloTreeSearch.MCTS_Node'>\n",
      "Epoch 1/5\n",
      "100/100 [==============================] - 1s 11ms/step - loss: 4.7658 - policy_output_loss: 5.1096 - value_output_loss: -0.3437\n",
      "Epoch 2/5\n",
      "100/100 [==============================] - 1s 5ms/step - loss: 4.3269 - policy_output_loss: 5.0069 - value_output_loss: -0.6800\n",
      "Epoch 3/5\n",
      "100/100 [==============================] - 1s 5ms/step - loss: 3.8110 - policy_output_loss: 4.8640 - value_output_loss: -1.0530\n",
      "Epoch 4/5\n",
      "100/100 [==============================] - 1s 5ms/step - loss: 3.5977 - policy_output_loss: 4.7720 - value_output_loss: -1.1742\n",
      "Epoch 5/5\n",
      "100/100 [==============================] - 1s 5ms/step - loss: 2.6801 - policy_output_loss: 4.6663 - value_output_loss: -1.9862\n",
      "Finished iter 8\n",
      "9\n",
      "An error occured while type Checking; parent : None, type(self) : <class 'AI.TreeSearch.MonteCarloTreeSearch.MCTS_Node'>\n",
      "Epoch 1/5\n",
      "106/106 [==============================] - 1s 10ms/step - loss: -11.4949 - policy_output_loss: -10.6975 - value_output_loss: -0.7974\n",
      "Epoch 2/5\n",
      "106/106 [==============================] - 1s 5ms/step - loss: -32.0565 - policy_output_loss: -30.8657 - value_output_loss: -1.1908\n",
      "Epoch 3/5\n",
      "106/106 [==============================] - 1s 5ms/step - loss: -43.2396 - policy_output_loss: -42.2093 - value_output_loss: -1.0303\n",
      "Epoch 4/5\n",
      "106/106 [==============================] - 1s 5ms/step - loss: -65.5139 - policy_output_loss: -64.1251 - value_output_loss: -1.3888\n",
      "Epoch 5/5\n"
     ]
    },
    {
     "name": "stdout",
     "output_type": "stream",
     "text": [
      "106/106 [==============================] - 1s 5ms/step - loss: -71.1454 - policy_output_loss: -69.7705 - value_output_loss: -1.3750\n",
      "Finished iter 9\n",
      "10\n",
      "An error occured while type Checking; parent : None, type(self) : <class 'AI.TreeSearch.MonteCarloTreeSearch.MCTS_Node'>\n"
     ]
    }
   ],
   "source": [
    "for i in range(51):\n",
    "    print(i)\n",
    "    d = gen_match(nn)\n",
    "    iData += d[0]\n",
    "    pData += d[1]\n",
    "    vData += d[2]\n",
    "    nn.train_model(np.array(iData), np.array(vData), np.array(pData))\n",
    "    iData = []\n",
    "    pData = []\n",
    "    vData = []\n",
    "    if i % 5 == 0:\n",
    "        nn.model.save(filepath)\n",
    "    print(\"Finished iter {}\".format(i))"
   ]
  },
  {
   "cell_type": "code",
   "execution_count": null,
   "metadata": {},
   "outputs": [],
   "source": []
  },
  {
   "cell_type": "code",
   "execution_count": null,
   "metadata": {},
   "outputs": [],
   "source": []
  },
  {
   "cell_type": "code",
   "execution_count": null,
   "metadata": {},
   "outputs": [],
   "source": []
  }
 ],
 "metadata": {
  "kernelspec": {
   "display_name": "Python 3",
   "language": "python",
   "name": "python3"
  },
  "language_info": {
   "codemirror_mode": {
    "name": "ipython",
    "version": 3
   },
   "file_extension": ".py",
   "mimetype": "text/x-python",
   "name": "python",
   "nbconvert_exporter": "python",
   "pygments_lexer": "ipython3",
   "version": "3.5.4"
  }
 },
 "nbformat": 4,
 "nbformat_minor": 2
}
