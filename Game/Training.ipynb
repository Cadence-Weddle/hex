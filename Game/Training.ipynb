{
 "cells": [
  {
   "cell_type": "code",
   "execution_count": 1,
   "metadata": {},
   "outputs": [
    {
     "name": "stderr",
     "output_type": "stream",
     "text": [
      "Using TensorFlow backend.\n"
     ]
    }
   ],
   "source": [
    "import AI.TreeSearch.MonteCarloTreeSearch as Mcts\n",
    "import AI.GameLogic.GameLogic as GameLogic\n",
    "import AI.NeuralNetwork.NeuralNetwork as NeN\n",
    "from imp import reload\n",
    "import numpy as np\n",
    "import keras"
   ]
  },
  {
   "cell_type": "code",
   "execution_count": 2,
   "metadata": {},
   "outputs": [],
   "source": [
    "reload(NeN)\n",
    "NN = NeN.NeuralNetwork"
   ]
  },
  {
   "cell_type": "code",
   "execution_count": 3,
   "metadata": {},
   "outputs": [],
   "source": [
    "reload(GameLogic)\n",
    "Game = GameLogic.Game"
   ]
  },
  {
   "cell_type": "code",
   "execution_count": 4,
   "metadata": {},
   "outputs": [],
   "source": [
    "reload(Mcts)\n",
    "MCTS = Mcts.MonteCarloTreeSearch\n",
    "argmax = Mcts.argmax\n"
   ]
  },
  {
   "cell_type": "code",
   "execution_count": 5,
   "metadata": {},
   "outputs": [],
   "source": [
    "iData = []\n",
    "pData = []\n",
    "vData = []\n",
    "filepath = \"AI\\\\NeuralNetwork\\\\SavedModel.h5\""
   ]
  },
  {
   "cell_type": "code",
   "execution_count": 6,
   "metadata": {},
   "outputs": [
    {
     "name": "stdout",
     "output_type": "stream",
     "text": [
      "<AI.NeuralNetwork.NeuralNetwork.NeuralNetwork object at 0x00000152C2D0C160>\n"
     ]
    }
   ],
   "source": [
    "nn = NeN.NNCreater(keras.models.load_model(filepath))"
   ]
  },
  {
   "cell_type": "code",
   "execution_count": null,
   "metadata": {
    "scrolled": true
   },
   "outputs": [],
   "source": [
    "def gen_match(model):\n",
    "    mcts = MCTS(Game(), model)\n",
    "    while not mcts.game.GameState:\n",
    "        mcts.turn(500)\n",
    "    return mcts.train(0.99)"
   ]
  },
  {
   "cell_type": "code",
   "execution_count": null,
   "metadata": {
    "scrolled": false
   },
   "outputs": [
    {
     "name": "stdout",
     "output_type": "stream",
     "text": [
      "0\n",
      "An error occured while type Checking; parent : None, type(self) : <class 'AI.TreeSearch.MonteCarloTreeSearch.MCTS_Node'>\n"
     ]
    }
   ],
   "source": [
    "for i in range(51):\n",
    "    print(i)\n",
    "    d = gen_match(nn)\n",
    "    iData += d[0]\n",
    "    pData += d[1]\n",
    "    vData += d[2]\n",
    "    nn.train_model(np.array(iData), np.array(vData), np.array(pData))\n",
    "    iData = []\n",
    "    pData = []\n",
    "    vData = []\n",
    "    if i % 5 == 0:\n",
    "        nn.model.save(filepath)\n",
    "    print(\"Finished iter {}\".format(i))"
   ]
  },
  {
   "cell_type": "code",
   "execution_count": null,
   "metadata": {},
   "outputs": [],
   "source": []
  },
  {
   "cell_type": "code",
   "execution_count": null,
   "metadata": {},
   "outputs": [],
   "source": []
  },
  {
   "cell_type": "code",
   "execution_count": null,
   "metadata": {},
   "outputs": [],
   "source": []
  }
 ],
 "metadata": {
  "kernelspec": {
   "display_name": "Python 3",
   "language": "python",
   "name": "python3"
  },
  "language_info": {
   "codemirror_mode": {
    "name": "ipython",
    "version": 3
   },
   "file_extension": ".py",
   "mimetype": "text/x-python",
   "name": "python",
   "nbconvert_exporter": "python",
   "pygments_lexer": "ipython3",
   "version": "3.5.4"
  }
 },
 "nbformat": 4,
 "nbformat_minor": 2
}
