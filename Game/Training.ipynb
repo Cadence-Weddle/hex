{
 "cells": [
  {
   "cell_type": "code",
   "execution_count": 1,
   "metadata": {},
   "outputs": [
    {
     "name": "stderr",
     "output_type": "stream",
     "text": [
      "Using TensorFlow backend.\n"
     ]
    }
   ],
   "source": [
    "import AI.TreeSearch.MonteCarloTreeSearch as Mcts\n",
    "import AI.GameLogic.GameLogic as GameLogic\n",
    "import AI.NeuralNetwork.NeuralNetwork as NeN\n",
    "from imp import reload\n",
    "import numpy as np\n",
    "import keras"
   ]
  },
  {
   "cell_type": "code",
   "execution_count": 2,
   "metadata": {},
   "outputs": [],
   "source": [
    "reload(NeN)\n",
    "NN = NeN.NeuralNetwork"
   ]
  },
  {
   "cell_type": "code",
   "execution_count": 3,
   "metadata": {},
   "outputs": [],
   "source": [
    "reload(GameLogic)\n",
    "Game = GameLogic.Game"
   ]
  },
  {
   "cell_type": "code",
   "execution_count": 4,
   "metadata": {},
   "outputs": [],
   "source": [
    "reload(Mcts)\n",
    "MCTS = Mcts.MonteCarloTreeSearch\n",
    "argmax = Mcts.argmax\n"
   ]
  },
  {
   "cell_type": "code",
   "execution_count": 5,
   "metadata": {},
   "outputs": [],
   "source": [
    "iData = []\n",
    "pData = []\n",
    "vData = []\n",
    "filepath = \"AI\\\\NeuralNetwork\\\\SavedModel.h5\""
   ]
  },
  {
   "cell_type": "code",
   "execution_count": 6,
   "metadata": {},
   "outputs": [
    {
     "name": "stdout",
     "output_type": "stream",
     "text": [
      "<AI.NeuralNetwork.NeuralNetwork.NeuralNetwork object at 0x00000152C2D0C160>\n"
     ]
    }
   ],
   "source": [
    "nn = NeN.NNCreater(keras.models.load_model(filepath))"
   ]
  },
  {
   "cell_type": "code",
   "execution_count": null,
   "metadata": {
    "scrolled": true
   },
   "outputs": [],
   "source": [
    "def gen_match(model):\n",
    "    mcts = MCTS(Game(), model)\n",
    "    while not mcts.game.GameState:\n",
    "        mcts.turn(500)\n",
    "    return mcts.train(0.99)"
   ]
  },
  {
   "cell_type": "code",
   "execution_count": null,
   "metadata": {
    "scrolled": false
   },
   "outputs": [
    {
     "name": "stdout",
     "output_type": "stream",
     "text": [
      "0\n",
      "An error occured while type Checking; parent : None, type(self) : <class 'AI.TreeSearch.MonteCarloTreeSearch.MCTS_Node'>\n",
      "Epoch 1/5\n",
      "99/99 [==============================] - 2s 21ms/step - loss: 4.3072 - policy_output_loss: 4.4082 - value_output_loss: -0.1010\n",
      "Epoch 2/5\n",
      "99/99 [==============================] - 1s 5ms/step - loss: 3.4948 - policy_output_loss: 4.2667 - value_output_loss: -0.7719\n",
      "Epoch 3/5\n",
      "99/99 [==============================] - 1s 5ms/step - loss: 3.2967 - policy_output_loss: 4.0494 - value_output_loss: -0.7527\n",
      "Epoch 4/5\n",
      "99/99 [==============================] - 1s 5ms/step - loss: 2.7866 - policy_output_loss: 3.9238 - value_output_loss: -1.1372\n",
      "Epoch 5/5\n",
      "99/99 [==============================] - 1s 5ms/step - loss: 1.9346 - policy_output_loss: 3.7814 - value_output_loss: -1.8468\n",
      "Finished iter 0\n",
      "1\n",
      "An error occured while type Checking; parent : None, type(self) : <class 'AI.TreeSearch.MonteCarloTreeSearch.MCTS_Node'>\n",
      "Epoch 1/5\n",
      "104/104 [==============================] - 1s 10ms/step - loss: 4.8393 - policy_output_loss: 4.7560 - value_output_loss: 0.0833\n",
      "Epoch 2/5\n",
      "104/104 [==============================] - 1s 5ms/step - loss: 3.5593 - policy_output_loss: 4.6034 - value_output_loss: -1.0442\n",
      "Epoch 3/5\n",
      "104/104 [==============================] - 1s 5ms/step - loss: 2.4336 - policy_output_loss: 4.4572 - value_output_loss: -2.0236\n",
      "Epoch 4/5\n",
      "104/104 [==============================] - 0s 5ms/step - loss: 2.3681 - policy_output_loss: 4.2987 - value_output_loss: -1.9306\n",
      "Epoch 5/5\n",
      "104/104 [==============================] - 1s 5ms/step - loss: 2.3736 - policy_output_loss: 4.1986 - value_output_loss: -1.8250\n",
      "Finished iter 1\n",
      "2\n",
      "An error occured while type Checking; parent : None, type(self) : <class 'AI.TreeSearch.MonteCarloTreeSearch.MCTS_Node'>\n",
      "Epoch 1/5\n",
      "114/114 [==============================] - 1s 11ms/step - loss: -2.2634 - policy_output_loss: -2.0619 - value_output_loss: -0.2015\n",
      "Epoch 2/5\n",
      "114/114 [==============================] - 1s 5ms/step - loss: -6.1679 - policy_output_loss: -5.5243 - value_output_loss: -0.6436\n",
      "Epoch 3/5\n",
      "114/114 [==============================] - 1s 5ms/step - loss: -8.9473 - policy_output_loss: -8.0276 - value_output_loss: -0.9198\n",
      "Epoch 4/5\n",
      "114/114 [==============================] - 1s 5ms/step - loss: -10.4454 - policy_output_loss: -9.3244 - value_output_loss: -1.1209\n",
      "Epoch 5/5\n",
      "114/114 [==============================] - 1s 5ms/step - loss: -12.2725 - policy_output_loss: -10.7570 - value_output_loss: -1.5155\n",
      "Finished iter 2\n",
      "3\n",
      "An error occured while type Checking; parent : None, type(self) : <class 'AI.TreeSearch.MonteCarloTreeSearch.MCTS_Node'>\n"
     ]
    }
   ],
   "source": [
    "for i in range(51):\n",
    "    print(i)\n",
    "    d = gen_match(nn)\n",
    "    iData += d[0]\n",
    "    pData += d[1]\n",
    "    vData += d[2]\n",
    "    nn.train_model(np.array(iData), np.array(vData), np.array(pData))\n",
    "    iData = []\n",
    "    pData = []\n",
    "    vData = []\n",
    "    if i % 5 == 0:\n",
    "        nn.model.save(filepath)\n",
    "    print(\"Finished iter {}\".format(i))"
   ]
  },
  {
   "cell_type": "code",
   "execution_count": null,
   "metadata": {},
   "outputs": [],
   "source": []
  },
  {
   "cell_type": "code",
   "execution_count": null,
   "metadata": {},
   "outputs": [],
   "source": []
  },
  {
   "cell_type": "code",
   "execution_count": null,
   "metadata": {},
   "outputs": [],
   "source": []
  }
 ],
 "metadata": {
  "kernelspec": {
   "display_name": "Python 3",
   "language": "python",
   "name": "python3"
  },
  "language_info": {
   "codemirror_mode": {
    "name": "ipython",
    "version": 3
   },
   "file_extension": ".py",
   "mimetype": "text/x-python",
   "name": "python",
   "nbconvert_exporter": "python",
   "pygments_lexer": "ipython3",
   "version": "3.5.4"
  }
 },
 "nbformat": 4,
 "nbformat_minor": 2
}
