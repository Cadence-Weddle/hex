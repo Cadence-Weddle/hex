{
 "cells": [
  {
   "cell_type": "code",
   "execution_count": 2,
   "metadata": {},
   "outputs": [],
   "source": [
    "from importlib import reload\n",
    "import time"
   ]
  },
  {
   "cell_type": "code",
<<<<<<< HEAD
   "execution_count": 3,
=======
   "execution_count": 6,
>>>>>>> 5638088c26dc5bbd35cd2340e7cb22f02afc861a
   "metadata": {},
   "outputs": [],
   "source": [
    "import AI.NeuralNetwork.NeuralNetwork\n",
    "NN = AI.NeuralNetwork.NeuralNetwork.NeuralNetwork"
   ]
  },
  {
   "cell_type": "code",
<<<<<<< HEAD
   "execution_count": 4,
=======
   "execution_count": 8,
>>>>>>> 5638088c26dc5bbd35cd2340e7cb22f02afc861a
   "metadata": {},
   "outputs": [],
   "source": [
    "import AI.GameLogic.GameLogic\n",
    "Game = AI.GameLogic.GameLogic.Game"
   ]
  },
  {
   "cell_type": "code",
<<<<<<< HEAD
   "execution_count": 8,
=======
   "execution_count": 11,
>>>>>>> 5638088c26dc5bbd35cd2340e7cb22f02afc861a
   "metadata": {},
   "outputs": [],
   "source": [
    "import AI.TreeSearch.MonteCarloTreeSearch\n",
    "MCTS = AI.TreeSearch.MonteCarloTreeSearch.MonteCarloTreeSearch"
   ]
  },
  {
   "cell_type": "code",
<<<<<<< HEAD
   "execution_count": 9,
=======
   "execution_count": 13,
>>>>>>> 5638088c26dc5bbd35cd2340e7cb22f02afc861a
   "metadata": {},
   "outputs": [],
   "source": [
    "def play_game():\n",
    "    start = time.time()\n",
    "    game = Game(echo=True)\n",
    "    mcts = MCTS(game, NN())\n",
    "    i = 0\n",
    "    while not game.GameState and i <= 121:\n",
    "        move = mcts.turn(500)\n",
    "        print(move,\"|\", str(game.board).replace(\"\\n\", \"\"))\n",
    "        game.MakeMove(move)\n",
    "        print(i)\n",
    "        i += 1\n",
    "        print(\"Next Player:\", game.NextPlayer, \", SwitchPlayer :\", GameLogic.SwitchPlayer(game.NextPlayer))\n",
    "    print(time.time() - start)\n",
    "    return mcts"
   ]
  },
  {
   "cell_type": "code",
<<<<<<< HEAD
   "execution_count": null,
   "metadata": {
    "scrolled": true
   },
=======
   "execution_count": 14,
   "metadata": {},
>>>>>>> 5638088c26dc5bbd35cd2340e7cb22f02afc861a
   "outputs": [
    {
     "name": "stdout",
     "output_type": "stream",
     "text": [
<<<<<<< HEAD
      "An error occured while type Checking; parent : None, type(self) : <class 'MonteCarloTreeSearch.MCTS_Node'>\n"
=======
      "An error occured while type Checking; parent : None, type(self) : <class 'AI.TreeSearch.MonteCarloTreeSearch.MCTS_Node'>\n",
      "Iter 0\n",
      "1\n",
      "Iter 0\n",
      "2\n",
      "Iter 0\n",
      "3\n",
      "Iter 0\n",
      "4\n",
      "Iter 0\n",
      "5\n",
      "Iter 0\n",
      "6\n",
      "Iter 0\n",
      "7\n",
      "Iter 0\n",
      "8\n",
      "251.9277219772339\n"
>>>>>>> 5638088c26dc5bbd35cd2340e7cb22f02afc861a
     ]
    }
   ],
   "source": [
    "mcts = play_game()"
   ]
  },
  {
   "cell_type": "code",
   "execution_count": null,
   "metadata": {
    "scrolled": false
   },
   "outputs": [],
   "source": [
    "mcts.root_node == mcts.top"
   ]
  },
  {
   "cell_type": "code",
   "execution_count": null,
   "metadata": {},
   "outputs": [],
   "source": [
    "mcts.top"
   ]
  },
  {
   "cell_type": "code",
   "execution_count": null,
   "metadata": {},
   "outputs": [],
   "source": [
    "mcts.game.history"
   ]
  },
  {
   "cell_type": "code",
   "execution_count": null,
   "metadata": {},
   "outputs": [],
   "source": [
    "for move in mcts.game.history:\n",
    "     x = mcts.top[move]"
   ]
  },
  {
   "cell_type": "code",
   "execution_count": null,
   "metadata": {},
   "outputs": [],
   "source": []
  },
  {
   "cell_type": "code",
   "execution_count": null,
   "metadata": {},
   "outputs": [],
   "source": []
  }
 ],
 "metadata": {
  "kernelspec": {
   "display_name": "Python 3",
   "language": "python",
   "name": "python3"
<<<<<<< HEAD
=======
  },
  "language_info": {
   "codemirror_mode": {
    "name": "ipython",
    "version": 3
   },
   "file_extension": ".py",
   "mimetype": "text/x-python",
   "name": "python",
   "nbconvert_exporter": "python",
   "pygments_lexer": "ipython3",
   "version": "3.6.2"
>>>>>>> 5638088c26dc5bbd35cd2340e7cb22f02afc861a
  }
 },
 "nbformat": 4,
 "nbformat_minor": 2
}
