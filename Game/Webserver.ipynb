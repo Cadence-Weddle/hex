{
 "cells": [
  {
   "cell_type": "code",
   "execution_count": 1,
   "metadata": {},
   "outputs": [
    {
     "ename": "IndentationError",
     "evalue": "unindent does not match any outer indentation level (GameLogic.py, line 6)",
     "output_type": "error",
     "traceback": [
      "Traceback \u001b[1;36m(most recent call last)\u001b[0m:\n",
      "  File \u001b[0;32m\"c:\\python\\lib\\site-packages\\IPython\\core\\interactiveshell.py\"\u001b[0m, line \u001b[0;32m2910\u001b[0m, in \u001b[0;35mrun_code\u001b[0m\n    exec(code_obj, self.user_global_ns, self.user_ns)\n",
      "  File \u001b[0;32m\"<ipython-input-1-c228abd73a80>\"\u001b[0m, line \u001b[0;32m2\u001b[0m, in \u001b[0;35m<module>\u001b[0m\n    from AI.API import MakeMove as MakeMove\n",
      "\u001b[1;36m  File \u001b[1;32m\"C:\\Users\\user\\Desktop\\GitHub\\hex.github.io\\Game\\AI\\API.py\"\u001b[1;36m, line \u001b[1;32m4\u001b[1;36m, in \u001b[1;35m<module>\u001b[1;36m\u001b[0m\n\u001b[1;33m    import AI.GameLogic.GameLogic as GameLogic\u001b[0m\n",
      "\u001b[1;36m  File \u001b[1;32m\"C:\\Users\\user\\Desktop\\GitHub\\hex.github.io\\Game\\AI\\GameLogic\\GameLogic.py\"\u001b[1;36m, line \u001b[1;32m6\u001b[0m\n\u001b[1;33m    \"\"\"\u001b[0m\n\u001b[1;37m       ^\u001b[0m\n\u001b[1;31mIndentationError\u001b[0m\u001b[1;31m:\u001b[0m unindent does not match any outer indentation level\n"
     ]
    }
   ],
   "source": [
    "from flask import Flask,render_template, request, jsonify\n",
    "from AI.API import MakeMove as MakeMove\n",
    "from copy import deepcopy as copy\n",
    "import time\n",
    "import datetime\n",
    "import numpy as np\n",
    "import AI.GameLogic.GameLogic as GameLogic\n",
    "import AI.TreeSearch.PureMonteCarloTreeSearch as PMCTS\n",
    "app = Flask(__name__)"
   ]
  },
  {
   "cell_type": "code",
   "execution_count": null,
   "metadata": {},
   "outputs": [],
   "source": [
    "@app.route(\"/\")\n",
    "def hexgame():\n",
    "    return render_template('Hexgame.html')\n",
    "\n",
    "@app.route('/_processrequest', methods=['GET', 'POST'])\n",
    "def processrequest():\n",
    "    indata = request.get_json()\n",
    "    curr_board = np.array(indata['board'])\n",
    "    #Check if Game Has Reached Terminal State\n",
    "    gamestate = GameLogic.GetGameState(curr_board)\n",
    "    if gamestate !=0:\n",
    "        print('Terminal Gamestate Reached')\n",
    "        return jsonify(gamestate=gamestate)\n",
    "    else:\n",
    "        output = MakeMove(computetime = indata['computetime'], board = curr_board)\n",
    "        print('Response at {time}:{data}'.format(time=datetime.datetime.fromtimestamp(time.time()).strftime('%Y-%m-%d %H:%M:%S.%f') ,data=output))\n",
    "        return jsonify(**output)"
   ]
  },
  {
   "cell_type": "code",
   "execution_count": null,
   "metadata": {
    "scrolled": true
   },
   "outputs": [],
   "source": [
    "app.run(host='0.0.0.0', port=80)"
   ]
  }
 ],
 "metadata": {
  "kernelspec": {
   "display_name": "Python 3",
   "language": "python",
   "name": "python3"
  },
  "language_info": {
   "codemirror_mode": {
    "name": "ipython",
    "version": 3
   },
   "file_extension": ".py",
   "mimetype": "text/x-python",
   "name": "python",
   "nbconvert_exporter": "python",
   "pygments_lexer": "ipython3",
   "version": "3.5.4"
  }
 },
 "nbformat": 4,
 "nbformat_minor": 2
}
