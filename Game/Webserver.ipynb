{
 "cells": [
  {
   "cell_type": "code",
   "execution_count": null,
   "metadata": {},
   "outputs": [],
   "source": [
    "from flask import Flask,render_template, request, jsonify\n",
    "from AI.API import _MakeMove_ as MakeMove\n",
    "from copy import deepcopy as copy\n",
    "import time\n",
    "import datetime\n",
    "import numpy as np\n",
    "import AI.GameLogic.GameLogic as GameLogic\n",
    "app = Flask(__name__)"
   ]
  },
  {
   "cell_type": "code",
   "execution_count": null,
   "metadata": {},
   "outputs": [],
   "source": [
    "@app.route(\"/\")\n",
    "def hexgame():\n",
    "    return render_template('Hexgame.html')\n",
    "\n",
    "@app.route('/_processrequest', methods=['GET', 'POST'])\n",
    "def processrequest():\n",
    "    indata = request.get_json()\n",
    "    curr_board = np.array(indata['board'])\n",
    "    #Check if Game Has Reached Terminal State\n",
    "    gamestate = GameLogic.GetGameState(curr_board)\n",
    "    if gamestate !=0:\n",
    "        print('Terminal Gamestate Reached')\n",
    "        return jsonify(gamestate=gamestate)\n",
    "    else:\n",
    "        output = MakeMove(computetime = indata['computetime'], board = curr_board)\n",
    "        print('Response at {time}:{data}'.format(time=datetime.datetime.fromtimestamp(time.time()).strftime('%Y-%m-%d %H:%M:%S.%f') ,data=output))\n",
    "        return jsonify(**output)"
   ]
  },
  {
   "cell_type": "code",
   "execution_count": null,
   "metadata": {},
   "outputs": [],
   "source": [
    "app.run(host='0.0.0.0', port=80)"
   ]
  },
  {
   "cell_type": "code",
   "execution_count": null,
   "metadata": {},
   "outputs": [],
   "source": []
  }
 ],
 "metadata": {
  "kernelspec": {
   "display_name": "Python 3",
   "language": "python",
   "name": "python3"
  },
  "language_info": {
   "codemirror_mode": {
    "name": "ipython",
    "version": 3
   },
   "file_extension": ".py",
   "mimetype": "text/x-python",
   "name": "python",
   "nbconvert_exporter": "python",
   "pygments_lexer": "ipython3",
   "version": "3.5.4"
  }
 },
 "nbformat": 4,
 "nbformat_minor": 2
}
