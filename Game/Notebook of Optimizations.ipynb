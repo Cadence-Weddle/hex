{
 "cells": [
  {
   "cell_type": "code",
   "execution_count": 73,
   "metadata": {},
   "outputs": [],
   "source": [
    "import random\n",
    "import numpy as np"
   ]
  },
  {
   "cell_type": "code",
   "execution_count": 145,
   "metadata": {},
   "outputs": [],
   "source": [
    "def gen_history(board):\n",
    "    \"\"\"\n",
    "    Returns a possible history of moves that could have led to that state. \n",
    "    \"\"\"\n",
    "    history = []\n",
    "    p1 = [x for x,i in enumerate(board) if i == 1]\n",
    "    p2 = [x for x,i in enumerate(board) if i == 2]\n",
    "    i = 0\n",
    "    while p1 and p2:\n",
    "        try:\n",
    "            history.append(p1[i])\n",
    "            history.append(p2[i])\n",
    "        except:\n",
    "            break\n",
    "        i += 1\n",
    "    return history"
   ]
  },
  {
   "cell_type": "code",
   "execution_count": 165,
   "metadata": {},
   "outputs": [],
   "source": [
    "def np_gen_history(board):\n",
    "    \"\"\"\n",
    "    Returns a possible history of moves that could have led to that state. \n",
    "    \"\"\"\n",
    "    p1 = np.where(board == 1)\n",
    "    p2 = np.where(board == 2)\n",
    "    lesser = min(len(p1),len(p2))\n",
    "    return np.stack((p2[0][:lesser],p1[0][:lesser])).flatten('F')"
   ]
  },
  {
   "cell_type": "code",
   "execution_count": 166,
   "metadata": {},
   "outputs": [],
   "source": [
    "benchlist = [np.random.choice((0,1,2),121) for _ in range(10000)]"
   ]
  },
  {
   "cell_type": "code",
   "execution_count": 167,
   "metadata": {},
   "outputs": [
    {
     "name": "stdout",
     "output_type": "stream",
     "text": [
      "Wall time: 609 ms\n"
     ]
    }
   ],
   "source": [
    "%%time\n",
    "    for i in benchlist:\n",
    "        gen_history(i)"
   ]
  },
  {
   "cell_type": "code",
   "execution_count": 168,
   "metadata": {},
   "outputs": [
    {
     "name": "stdout",
     "output_type": "stream",
     "text": [
      "Wall time: 131 ms\n"
     ]
    }
   ],
   "source": [
    "%%time\n",
    "    for i in benchlist:\n",
    "        np_gen_history(i)"
   ]
  },
  {
   "cell_type": "code",
   "execution_count": null,
   "metadata": {},
   "outputs": [],
   "source": []
  }
 ],
 "metadata": {
  "kernelspec": {
   "display_name": "Python 3",
   "language": "python",
   "name": "python3"
  },
  "language_info": {
   "codemirror_mode": {
    "name": "ipython",
    "version": 3
   },
   "file_extension": ".py",
   "mimetype": "text/x-python",
   "name": "python",
   "nbconvert_exporter": "python",
   "pygments_lexer": "ipython3",
   "version": "3.6.4"
  }
 },
 "nbformat": 4,
 "nbformat_minor": 2
}
