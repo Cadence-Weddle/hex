{
 "cells": [
  {
   "cell_type": "code",
   "execution_count": 73,
   "metadata": {},
   "outputs": [],
   "source": [
    "import random\n",
    "import numpy as np"
   ]
  },
  {
   "cell_type": "code",
   "execution_count": 145,
   "metadata": {},
   "outputs": [],
   "source": [
    "def gen_history(board):\n",
    "    \"\"\"\n",
    "    Returns a possible history of moves that could have led to that state. \n",
    "    \"\"\"\n",
    "    history = []\n",
    "    p1 = [x for x,i in enumerate(board) if i == 1]\n",
    "    p2 = [x for x,i in enumerate(board) if i == 2]\n",
    "    i = 0\n",
    "    while p1 and p2:\n",
    "        try:\n",
    "            history.append(p1[i])\n",
    "            history.append(p2[i])\n",
    "        except:\n",
    "            break\n",
    "        i += 1\n",
    "    return history"
   ]
  },
  {
   "cell_type": "code",
   "execution_count": 165,
   "metadata": {},
   "outputs": [],
   "source": [
    "def np_gen_history(board):\n",
    "    \"\"\"\n",
    "    Returns a possible history of moves that could have led to that state. \n",
    "    \"\"\"\n",
    "    p1 = np.where(board == 1)\n",
    "    p2 = np.where(board == 2)\n",
    "    lesser = min(len(p1),len(p2))\n",
    "    return np.stack((p2[0][:lesser],p1[0][:lesser])).flatten('F')"
   ]
  },
  {
   "cell_type": "code",
   "execution_count": 166,
   "metadata": {},
   "outputs": [],
   "source": [
    "benchlist = [np.random.choice((0,1,2),121) for _ in range(10000)]"
   ]
  },
  {
   "cell_type": "code",
   "execution_count": 167,
   "metadata": {},
   "outputs": [
    {
     "name": "stdout",
     "output_type": "stream",
     "text": [
      "Wall time: 609 ms\n"
     ]
    }
   ],
   "source": [
    "%%time\n",
    "    for i in benchlist:\n",
    "        gen_history(i)"
   ]
  },
  {
   "cell_type": "code",
   "execution_count": 168,
   "metadata": {},
   "outputs": [
    {
     "name": "stdout",
     "output_type": "stream",
     "text": [
      "Wall time: 131 ms\n"
     ]
    }
   ],
   "source": [
    "%%time\n",
    "    for i in benchlist:\n",
    "        np_gen_history(i)"
   ]
  },
  {
   "cell_type": "code",
   "execution_count": 1,
   "metadata": {},
   "outputs": [],
   "source": [
    "import threading"
   ]
  },
  {
   "cell_type": "code",
   "execution_count": 2,
   "metadata": {},
   "outputs": [],
   "source": [
    "import threading\n",
    "class Thread(threading.Thread):\n",
    "    def __init__(self):\n",
    "        super().__init__()\n",
    "        self.stopped = False\n",
    "    def run(self):\n",
    "        import playsound\n",
    "        for i in range(4):\n",
    "            playsound.playsound(\"http://www.orangefreesounds.com/wp-content/uploads/2014/10/Jeopardy-theme-song.mp3\")\n",
    "            if self.stopped:\n",
    "                raise Exception(\"An error ocurred\")\n",
    "    def RaiseException(self):\n",
    "        self.stopped = True"
   ]
  },
  {
   "cell_type": "code",
   "execution_count": 3,
   "metadata": {},
   "outputs": [],
   "source": [
    "k = Thread()"
   ]
  },
  {
   "cell_type": "code",
   "execution_count": 4,
   "metadata": {},
   "outputs": [],
   "source": [
    "k.start()"
   ]
  },
  {
   "cell_type": "code",
   "execution_count": 5,
   "metadata": {},
   "outputs": [],
   "source": [
    "k.RaiseException()"
   ]
  },
  {
   "cell_type": "code",
   "execution_count": 6,
   "metadata": {},
   "outputs": [
    {
     "data": {
      "text/plain": [
       "[<_MainThread(MainThread, started 7216)>,\n",
       " <Thread(Thread-4, started daemon 15824)>,\n",
       " <ParentPollerWindows(Thread-3, started daemon 16352)>,\n",
       " <Thread(Thread-6, started 11608)>,\n",
       " <Heartbeat(Thread-5, started daemon 16032)>,\n",
       " <HistorySavingThread(IPythonHistorySavingThread, started 18396)>]"
      ]
     },
     "execution_count": 6,
     "metadata": {},
     "output_type": "execute_result"
    },
    {
     "name": "stderr",
     "output_type": "stream",
     "text": [
      "Exception in thread Thread-6:\n",
      "Traceback (most recent call last):\n",
      "  File \"c:\\python\\lib\\threading.py\", line 914, in _bootstrap_inner\n",
      "    self.run()\n",
      "  File \"<ipython-input-2-e5d04d31546c>\", line 11, in run\n",
      "    raise Exception(\"An error ocurred\")\n",
      "Exception: An error ocurred\n",
      "\n"
     ]
    }
   ],
   "source": [
    "threading.enumerate()"
   ]
  },
  {
   "cell_type": "code",
   "execution_count": null,
   "metadata": {},
   "outputs": [],
   "source": []
  }
 ],
 "metadata": {
  "kernelspec": {
   "display_name": "Python 3",
   "language": "python",
   "name": "python3"
  },
  "language_info": {
   "codemirror_mode": {
    "name": "ipython",
    "version": 3
   },
   "file_extension": ".py",
   "mimetype": "text/x-python",
   "name": "python",
   "nbconvert_exporter": "python",
   "pygments_lexer": "ipython3",
   "version": "3.5.4"
  }
 },
 "nbformat": 4,
 "nbformat_minor": 2
}
