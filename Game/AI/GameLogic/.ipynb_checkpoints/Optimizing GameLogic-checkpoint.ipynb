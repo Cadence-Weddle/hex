{
 "cells": [
  {
   "cell_type": "code",
   "execution_count": 8,
   "metadata": {},
   "outputs": [],
   "source": [
    "#import AI.GameLogic.GetGameState as GetGameState\n",
    "import numpy as np\n",
    "from random import choice\n",
    "from matplotlib import pyplot as plt\n",
    "from math import floor\n",
    "from ipywidgets import widgets\n",
    "%matplotlib inline\n",
    "from time import time"
   ]
  },
  {
   "cell_type": "code",
   "execution_count": 27,
   "metadata": {},
   "outputs": [],
   "source": [
    "def GetGameState(board,players):\n",
    "    \"\"\"\n",
    "    Returns game state from a given board:\n",
    "      0: Game has not reached terminal position\n",
    "      players[0]: Game has reached terminal position with player players[0] victory\n",
    "      players[1]: Game has reached terminal position with player players[1] victory\n",
    "    Input must be of type np.array() with shape (121) and must only contain values of the following:\n",
    "      0:Empty\n",
    "      players[0]:Player 1\n",
    "      players[1]:Player 2\n",
    "    \"\"\"\n",
    "    PLAYERSTARTS = [[1, 1, 1, 1, 1, 1, 1, 1, 1, 1, 1,\n",
    "             0, 0, 0, 0, 0, 0, 0, 0, 0, 0, 0,\n",
    "             0, 0, 0, 0, 0, 0, 0, 0, 0, 0, 0,\n",
    "             0, 0, 0, 0, 0, 0, 0, 0, 0, 0, 0,\n",
    "             0, 0, 0, 0, 0, 0, 0, 0, 0, 0, 0,\n",
    "             0, 0, 0, 0, 0, 0, 0, 0, 0, 0, 0,\n",
    "             0, 0, 0, 0, 0, 0, 0, 0, 0, 0, 0,\n",
    "             0, 0, 0, 0, 0, 0, 0, 0, 0, 0, 0,\n",
    "             0, 0, 0, 0, 0, 0, 0, 0, 0, 0, 0,\n",
    "             0, 0, 0, 0, 0, 0, 0, 0, 0, 0, 0,\n",
    "             0, 0, 0, 0, 0, 0, 0, 0, 0, 0, 0],\n",
    "            [1, 0, 0, 0, 0, 0, 0, 0, 0, 0, 0,\n",
    "             1, 0, 0, 0, 0, 0, 0, 0, 0, 0, 0,\n",
    "             1, 0, 0, 0, 0, 0, 0, 0, 0, 0, 0,\n",
    "             1, 0, 0, 0, 0, 0, 0, 0, 0, 0, 0,\n",
    "             1, 0, 0, 0, 0, 0, 0, 0, 0, 0, 0,\n",
    "             1, 0, 0, 0, 0, 0, 0, 0, 0, 0, 0,\n",
    "             1, 0, 0, 0, 0, 0, 0, 0, 0, 0, 0,\n",
    "             1, 0, 0, 0, 0, 0, 0, 0, 0, 0, 0,\n",
    "             1, 0, 0, 0, 0, 0, 0, 0, 0, 0, 0,\n",
    "             1, 0, 0, 0, 0, 0, 0, 0, 0, 0, 0,\n",
    "             1, 0, 0, 0, 0, 0, 0, 0, 0, 0, 0]]\n",
    "\n",
    "    PLAYERDESTS = [[0, 0, 0, 0, 0, 0, 0, 0, 0, 0, 0,\n",
    "            0, 0, 0, 0, 0, 0, 0, 0, 0, 0, 0,\n",
    "            0, 0, 0, 0, 0, 0, 0, 0, 0, 0, 0,\n",
    "            0, 0, 0, 0, 0, 0, 0, 0, 0, 0, 0,\n",
    "            0, 0, 0, 0, 0, 0, 0, 0, 0, 0, 0,\n",
    "            0, 0, 0, 0, 0, 0, 0, 0, 0, 0, 0,\n",
    "            0, 0, 0, 0, 0, 0, 0, 0, 0, 0, 0,\n",
    "            0, 0, 0, 0, 0, 0, 0, 0, 0, 0, 0,\n",
    "            0, 0, 0, 0, 0, 0, 0, 0, 0, 0, 0,\n",
    "            0, 0, 0, 0, 0, 0, 0, 0, 0, 0, 0,\n",
    "            1, 1, 1, 1, 1, 1, 1, 1, 1, 1, 1],\n",
    "           [0, 0, 0, 0, 0, 0, 0, 0, 0, 0, 1,\n",
    "            0, 0, 0, 0, 0, 0, 0, 0, 0, 0, 1,\n",
    "            0, 0, 0, 0, 0, 0, 0, 0, 0, 0, 1,\n",
    "            0, 0, 0, 0, 0, 0, 0, 0, 0, 0, 1,\n",
    "            0, 0, 0, 0, 0, 0, 0, 0, 0, 0, 1,\n",
    "            0, 0, 0, 0, 0, 0, 0, 0, 0, 0, 1,\n",
    "            0, 0, 0, 0, 0, 0, 0, 0, 0, 0, 1,\n",
    "            0, 0, 0, 0, 0, 0, 0, 0, 0, 0, 1,\n",
    "            0, 0, 0, 0, 0, 0, 0, 0, 0, 0, 1,\n",
    "            0, 0, 0, 0, 0, 0, 0, 0, 0, 0, 1,\n",
    "            0, 0, 0, 0, 0, 0, 0, 0, 0, 0, 1]]\n",
    "\n",
    "    # This takes too much computation\n",
    "    # [1 if x in GLOBAL_CHECKED else 0 for x in range(121)]\n",
    "    GLOBAL_CHECKED = [0, 0, 0, 0, 0, 0, 0, 0, 0, 0, 0,\n",
    "              0, 0, 0, 0, 0, 0, 0, 0, 0, 0, 0,\n",
    "              0, 0, 0, 0, 0, 0, 0, 0, 0, 0, 0,\n",
    "              0, 0, 0, 0, 0, 0, 0, 0, 0, 0, 0,\n",
    "              0, 0, 0, 0, 0, 0, 0, 0, 0, 0, 0,\n",
    "              0, 0, 0, 0, 0, 0, 0, 0, 0, 0, 0,\n",
    "              0, 0, 0, 0, 0, 0, 0, 0, 0, 0, 0,\n",
    "              0, 0, 0, 0, 0, 0, 0, 0, 0, 0, 0,\n",
    "              0, 0, 0, 0, 0, 0, 0, 0, 0, 0, 0,\n",
    "              0, 0, 0, 0, 0, 0, 0, 0, 0, 0, 0,\n",
    "              0, 0, 0, 0, 0, 0, 0, 0, 0, 0, 0]\n",
    "    WeightPos = [[1, 11], [-1, 1, 10, 11], [-1, 1, 10, 11], [-1, 1, 10, 11], [-1, 1, 10, 11], [-1, 1, 10, 11], [-1, 1, 10, 11], [-1, 1, 10, 11], [-1, 1, 10, 11], [-1, 1, 10, 11], [-1, 11], [-11, -10, 1, 11], [-11, -10, -1, 1, 10, 11], [-11, -10, -1, 1, 10, 11], [-11, -10, -1, 1, 10, 11], [-11, -10, -1, 1, 10, 11], [-11, -10, -1, 1, 10, 11], [-11, -10, -1, 1, 10, 11], [-11, -10, -1, 1, 10, 11], [-11, -10, -1, 1, 10, 11], [-11, -10, -1, 1, 10, 11], [-11, -1, 10, 11], [-11, -10, 1, 11], [-11, -10, -1, 1, 10, 11], [-11, -10, -1, 1, 10, 11], [-11, -10, -1, 1, 10, 11], [-11, -10, -1, 1, 10, 11], [-11, -10, -1, 1, 10, 11], [-11, -10, -1, 1, 10, 11], [-11, -10, -1, 1, 10, 11], [-11, -10, -1, 1, 10, 11], [-11, -10, -1, 1, 10, 11], [-11, -1, 10, 11], [-11, -10, 1, 11], [-11, -10, -1, 1, 10, 11], [-11, -10, -1, 1, 10, 11], [-11, -10, -1, 1, 10, 11], [-11, -10, -1, 1, 10, 11], [-11, -10, -1, 1, 10, 11], [-11, -10, -1, 1, 10, 11], [-11, -10, -1, 1, 10, 11], [-11, -10, -1, 1, 10, 11], [-11, -10, -1, 1, 10, 11], [-11, -1, 10, 11], [-11, -10, 1, 11], [-11, -10, -1, 1, 10, 11], [-11, -10, -1, 1, 10, 11], [-11, -10, -1, 1, 10, 11], [-11, -10, -1, 1, 10, 11], [-11, -10, -1, 1, 10, 11], [-11, -10, -1, 1, 10, 11], [-11, -10, -1, 1, 10, 11], [-11, -10, -1, 1, 10, 11], [-11, -10, -1, 1, 10, 11], [-11, -1, 10, 11], [-11, -10, 1, 11], [-11, -10, -1, 1, 10, 11], [-11, -10, -1, 1, 10, 11], [-11, -10, -1, 1, 10, 11], [-11, -10, -1, 1, 10, 11], [-11, -10, -1, 1, 10, 11], [-11, -10, -1, 1, 10, 11], [-11, -10, -1, 1, 10, 11], [-11, -10, -1, 1, 10, 11], [-11, -10, -1, 1, 10, 11], [-11, -1, 10, 11], [-11, -10, 1, 11], [-11, -10, -1, 1, 10, 11], [-11, -10, -1, 1, 10, 11], [-11, -10, -1, 1, 10, 11], [-11, -10, -1, 1, 10, 11], [-11, -10, -1, 1, 10, 11], [-11, -10, -1, 1, 10, 11], [-11, -10, -1, 1, 10, 11], [-11, -10, -1, 1, 10, 11], [-11, -10, -1, 1, 10, 11], [-11, -1, 10, 11], [-11, -10, 1, 11], [-11, -10, -1, 1, 10, 11], [-11, -10, -1, 1, 10, 11], [-11, -10, -1, 1, 10, 11], [-11, -10, -1, 1, 10, 11], [-11, -10, -1, 1, 10, 11], [-11, -10, -1, 1, 10, 11], [-11, -10, -1, 1, 10, 11], [-11, -10, -1, 1, 10, 11], [-11, -10, -1, 1, 10, 11], [-11, -1, 10, 11], [-11, -10, 1, 11], [-11, -10, -1, 1, 10, 11], [-11, -10, -1, 1, 10, 11], [-11, -10, -1, 1, 10, 11], [-11, -10, -1, 1, 10, 11], [-11, -10, -1, 1, 10, 11], [-11, -10, -1, 1, 10, 11], [-11, -10, -1, 1, 10, 11], [-11, -10, -1, 1, 10, 11], [-11, -10, -1, 1, 10, 11], [-11, -1, 10, 11], [-11, -10, 1, 11], [-11, -10, -1, 1, 10, 11], [-11, -10, -1, 1, 10, 11], [-11, -10, -1, 1, 10, 11], [-11, -10, -1, 1, 10, 11], [-11, -10, -1, 1, 10, 11], [-11, -10, -1, 1, 10, 11], [-11, -10, -1, 1, 10, 11], [-11, -10, -1, 1, 10, 11], [-11, -10, -1, 1, 10, 11], [-11, -1, 10, 11], [-11, -10, 1], [-11, -10, -1, 1], [-11, -10, -1, 1], [-11, -10, -1, 1], [-11, -10, -1, 1], [-11, -10, -1, 1], [-11, -10, -1, 1], [-11, -10, -1, 1], [-11, -10, -1, 1], [-11, -10, -1, 1], [-1, -11]]\n",
    "    def check_state_from_queue(queue, _player):\n",
    "        #print('Player:',player)\n",
    "        #print('GlobalCheckedBegin:',np.flipud(np.rot90(np.array(GLOBAL_CHECKED).reshape(11,11))))\n",
    "        LocalChecked = [0, 0, 0, 0, 0, 0, 0, 0, 0, 0, 0,\n",
    "                        0, 0, 0, 0, 0, 0, 0, 0, 0, 0, 0,\n",
    "                        0, 0, 0, 0, 0, 0, 0, 0, 0, 0, 0,\n",
    "                        0, 0, 0, 0, 0, 0, 0, 0, 0, 0, 0,\n",
    "                        0, 0, 0, 0, 0, 0, 0, 0, 0, 0, 0,\n",
    "                        0, 0, 0, 0, 0, 0, 0, 0, 0, 0, 0,\n",
    "                        0, 0, 0, 0, 0, 0, 0, 0, 0, 0, 0,\n",
    "                        0, 0, 0, 0, 0, 0, 0, 0, 0, 0, 0,\n",
    "                        0, 0, 0, 0, 0, 0, 0, 0, 0, 0, 0,\n",
    "                        0, 0, 0, 0, 0, 0, 0, 0, 0, 0, 0,\n",
    "                        0, 0, 0, 0, 0, 0, 0, 0, 0, 0, 0]\n",
    "        new_queue = []\n",
    "        for position in queue:\n",
    "            # print('position',position)\n",
    "            GLOBAL_CHECKED[position]=1\n",
    "            # print(WeightPos[position])\n",
    "            for neighbor_w in WeightPos[position]:\n",
    "                # NP Optimize\n",
    "                neighbor = position+neighbor_w\n",
    "                if board[neighbor] == players[_player] and board[position]==players[_player] and GLOBAL_CHECKED[neighbor]==0 and LocalChecked[neighbor]==0 :\n",
    "                    #print(player,position,neighbor)\n",
    "                    if (PLAYERDESTS[_player][neighbor]==1 and PLAYERSTARTS[_player][position]==0) and PLAYERDESTS[_player][position]==0:\n",
    "                        #print('Win,Player:',player,'Neighbor:',neighbor,'Position:',position)\n",
    "                        return 1\n",
    "                    new_queue.append(neighbor)\n",
    "                    LocalChecked[neighbor]=1\n",
    "        if not new_queue:\n",
    "            return 0\n",
    "        else:\n",
    "            #print('Q',queue)\n",
    "            #print('GlobalC',np.flipud(np.rot90(np.array(GLOBAL_CHECKED).reshape(11,11))))\n",
    "            #print('NQ',new_queue)\n",
    "            return check_state_from_queue(new_queue, _player)\n",
    "\n",
    "    if check_state_from_queue((0,1,2,3,4,5,6,7,8,9,10), 0) == 1:\n",
    "        return players[0]\n",
    "    else:\n",
    "        GLOBAL_CHECKED = [0, 0, 0, 0, 0, 0, 0, 0, 0, 0, 0,\n",
    "          0, 0, 0, 0, 0, 0, 0, 0, 0, 0, 0,\n",
    "          0, 0, 0, 0, 0, 0, 0, 0, 0, 0, 0,\n",
    "          0, 0, 0, 0, 0, 0, 0, 0, 0, 0, 0,\n",
    "          0, 0, 0, 0, 0, 0, 0, 0, 0, 0, 0,\n",
    "          0, 0, 0, 0, 0, 0, 0, 0, 0, 0, 0,\n",
    "          0, 0, 0, 0, 0, 0, 0, 0, 0, 0, 0,\n",
    "          0, 0, 0, 0, 0, 0, 0, 0, 0, 0, 0,\n",
    "          0, 0, 0, 0, 0, 0, 0, 0, 0, 0, 0,\n",
    "          0, 0, 0, 0, 0, 0, 0, 0, 0, 0, 0,\n",
    "          0, 0, 0, 0, 0, 0, 0, 0, 0, 0, 0]\n",
    "        if check_state_from_queue((0,11,22,33,44,55,66,77,88,99,110), 1) == 1:\n",
    "            return players[1]\n",
    "        else:\n",
    "            return 0"
   ]
  },
  {
   "cell_type": "code",
   "execution_count": 28,
   "metadata": {
    "scrolled": true
   },
   "outputs": [
    {
     "ename": "TypeError",
     "evalue": "GetGameState() missing 1 required positional argument: 'players'",
     "output_type": "error",
     "traceback": [
      "\u001b[1;31m---------------------------------------------------------------------------\u001b[0m",
      "\u001b[1;31mTypeError\u001b[0m                                 Traceback (most recent call last)",
      "\u001b[1;32m<timed eval>\u001b[0m in \u001b[0;36m<module>\u001b[1;34m()\u001b[0m\n",
      "\u001b[1;31mTypeError\u001b[0m: GetGameState() missing 1 required positional argument: 'players'"
     ]
    }
   ],
   "source": [
    "%%time\n",
    "GetGameState([1, 1, 1, 1, 1, 1, 1, 1, 1, 1, 1,\n",
    "                      1, 1, 1, 1, 1, 1, 1, 1, 1, 1, 1,\n",
    "                      1, 1, 1, 1, 1, 1, 1, 1, 1, 1, 1,\n",
    "                      1, 1, 1, 1, 1, 1, 1, 1, 1, 1, 1,\n",
    "                      1, 1, 1, 1, 1, 1, 1, 1, 1, 1, 1,\n",
    "                      1, 1, 1, 1, 1, 1, 1, 1, 1, 1, 1,\n",
    "                      1, 1, 1, 1, 1, 1, 1, 1, 1, 1, 1,\n",
    "                      1, 1, 1, 1, 1, 1, 1, 1, 1, 1, 1,\n",
    "                      1, 1, 1, 1, 1, 1, 1, 1, 1, 1, 1,\n",
    "                      1, 1, 1, 1, 1, 1, 1, 1, 1, 1, 1,\n",
    "                      1, 1, 1, 1, 1, 1, 1, 1, 1, 1, 1])"
   ]
  },
  {
   "cell_type": "code",
   "execution_count": 29,
   "metadata": {
    "scrolled": true
   },
   "outputs": [
    {
     "ename": "TypeError",
     "evalue": "GetGameState() missing 1 required positional argument: 'players'",
     "output_type": "error",
     "traceback": [
      "\u001b[1;31m---------------------------------------------------------------------------\u001b[0m",
      "\u001b[1;31mTypeError\u001b[0m                                 Traceback (most recent call last)",
      "\u001b[1;32m<timed eval>\u001b[0m in \u001b[0;36m<module>\u001b[1;34m()\u001b[0m\n",
      "\u001b[1;31mTypeError\u001b[0m: GetGameState() missing 1 required positional argument: 'players'"
     ]
    }
   ],
   "source": [
    "%%time\n",
    "GetGameState([2, 2, 2, 2, 2, 2, 2, 2, 2, 2, 2,\n",
    "                      2, 2, 2, 2, 2, 2, 2, 2, 2, 2, 2,\n",
    "                      2, 2, 2, 2, 2, 2, 2, 2, 2, 2, 2,\n",
    "                      2, 2, 2, 2, 2, 2, 2, 2, 2, 2, 2,\n",
    "                      2, 2, 2, 2, 2, 2, 2, 2, 2, 2, 2,\n",
    "                      2, 2, 2, 2, 2, 2, 2, 2, 2, 2, 2,\n",
    "                      2, 2, 2, 2, 2, 2, 2, 2, 2, 2, 2,\n",
    "                      2, 2, 2, 2, 2, 2, 2, 2, 2, 2, 2,\n",
    "                      2, 2, 2, 2, 2, 2, 2, 2, 2, 2, 2,\n",
    "                      2, 2, 2, 2, 2, 2, 2, 2, 2, 2, 2,\n",
    "                      2, 2, 2, 2, 2, 2, 2, 2, 2, 2, 2])"
   ]
  },
  {
   "cell_type": "code",
   "execution_count": 5,
   "metadata": {},
   "outputs": [
    {
     "name": "stdout",
     "output_type": "stream",
     "text": [
      "230 µs ± 13.6 µs per loop (mean ± std. dev. of 7 runs, 10000 loops each)\n"
     ]
    }
   ],
   "source": [
    "%%timeit -n 10000\n",
    "GetGameState([choice((0,1,2)) for _ in range(121)])"
   ]
  },
  {
   "cell_type": "code",
   "execution_count": 99,
   "metadata": {
    "scrolled": true
   },
   "outputs": [
    {
     "data": {
      "text/plain": [
       "0"
      ]
     },
     "execution_count": 99,
     "metadata": {},
     "output_type": "execute_result"
    }
   ],
   "source": [
    "%%time\n",
    "TestGetGameState([0 for _ in range(121)])"
   ]
  },
  {
   "cell_type": "code",
   "execution_count": 14,
   "metadata": {},
   "outputs": [
    {
     "name": "stderr",
     "output_type": "stream",
     "text": [
      "UsageError: Line magic function `%cython` not found.\n"
     ]
    }
   ],
   "source": [
    "%cython"
   ]
  },
  {
   "cell_type": "markdown",
   "metadata": {},
   "source": [
    "## Magikkal Testing"
   ]
  },
  {
   "cell_type": "code",
   "execution_count": 34,
   "metadata": {},
   "outputs": [],
   "source": [
    "def transform(board):\n",
    "    output = np.full((22,32),-3)\n",
    "    for pos,val in enumerate(board):\n",
    "        this_x = int((floor(pos/11)+(1/2)*(pos%11))*2)\n",
    "        this_y = int(((pos%11)*2))\n",
    "        output[this_y][this_x]=val\n",
    "        output[this_y][this_x+1]=val\n",
    "        output[this_y+1][this_x]=val\n",
    "        output[this_y+1][this_x+1]=val\n",
    "    return output\n",
    "def path_test(n):\n",
    "    flag = 0\n",
    "    while flag==0:\n",
    "        starttime=time()\n",
    "        a_board = np.array([choice((0,-1,1)) for _ in range(121)])\n",
    "        q = GetGameState(a_board,[1,-1])\n",
    "        if q !=0:\n",
    "            print(time()-starttime)\n",
    "            print(q)\n",
    "            plt.imshow(transform(a_board))\n",
    "            flag=1"
   ]
  },
  {
   "cell_type": "code",
   "execution_count": 35,
   "metadata": {},
   "outputs": [
    {
     "data": {
      "application/vnd.jupyter.widget-view+json": {
       "model_id": "38833da903fd4262a18fd19808adbf52",
       "version_major": 2,
       "version_minor": 0
      },
      "text/html": [
       "<p>Failed to display Jupyter Widget of type <code>Button</code>.</p>\n",
       "<p>\n",
       "  If you're reading this message in Jupyter Notebook or JupyterLab, it may mean\n",
       "  that the widgets JavaScript is still loading. If this message persists, it\n",
       "  likely means that the widgets JavaScript library is either not installed or\n",
       "  not enabled. See the <a href=\"https://ipywidgets.readthedocs.io/en/stable/user_install.html\">Jupyter\n",
       "  Widgets Documentation</a> for setup instructions.\n",
       "</p>\n",
       "<p>\n",
       "  If you're reading this message in another notebook frontend (for example, a static\n",
       "  rendering on GitHub or <a href=\"https://nbviewer.jupyter.org/\">NBViewer</a>),\n",
       "  it may mean that your frontend doesn't currently support widgets.\n",
       "</p>\n"
      ],
      "text/plain": [
       "Button(description='Next', style=ButtonStyle())"
      ]
     },
     "metadata": {},
     "output_type": "display_data"
    },
    {
     "name": "stdout",
     "output_type": "stream",
     "text": [
      "0.0010237693786621094\n",
      "-1\n"
     ]
    },
    {
     "data": {
      "image/png": "[encoded data removed]",
      "text/plain": [
       "<matplotlib.figure.Figure at 0x269ae2a5ac8>"
      ]
     },
     "metadata": {},
     "output_type": "display_data"
    },
    {
     "name": "stdout",
     "output_type": "stream",
     "text": [
      "0.0009982585906982422\n",
      "1\n"
     ]
    },
    {
     "data": {
      "image/png": "[encoded data removed]",
      "text/plain": [
       "<matplotlib.figure.Figure at 0x269ae224eb8>"
      ]
     },
     "metadata": {},
     "output_type": "display_data"
    },
    {
     "name": "stdout",
     "output_type": "stream",
     "text": [
      "0.0\n",
      "-1\n"
     ]
    },
    {
     "data": {
      "image/png": "[encoded data removed]",
      "text/plain": [
       "<matplotlib.figure.Figure at 0x269ae3ffef0>"
      ]
     },
     "metadata": {},
     "output_type": "display_data"
    }
   ],
   "source": [
    "button = widgets.Button(description=\"Next\")\n",
    "display(button)\n",
    "button.on_click(path_test)"
   ]
  },
  {
   "cell_type": "code",
   "execution_count": null,
   "metadata": {},
   "outputs": [],
   "source": []
  }
 ],
 "metadata": {
  "kernelspec": {
   "display_name": "Python 3",
   "language": "python",
   "name": "python3"
  },
  "language_info": {
   "codemirror_mode": {
    "name": "ipython",
    "version": 3
   },
   "file_extension": ".py",
   "mimetype": "text/x-python",
   "name": "python",
   "nbconvert_exporter": "python",
   "pygments_lexer": "ipython3",
   "version": "3.6.2"
  }
 },
 "nbformat": 4,
 "nbformat_minor": 2
}
