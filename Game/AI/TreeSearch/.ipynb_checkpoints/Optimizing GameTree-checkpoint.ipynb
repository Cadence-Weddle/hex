{
 "cells": [
  {
   "cell_type": "code",
   "execution_count": 11,
   "metadata": {},
   "outputs": [],
   "source": [
    "%load_ext Cython"
   ]
  },
  {
   "cell_type": "code",
   "execution_count": 22,
   "metadata": {},
   "outputs": [
    {
     "name": "stderr",
     "output_type": "stream",
     "text": [
      "\n",
      "Error compiling Cython file:\n",
      "------------------------------------------------------------\n",
      "...\n",
      "\n",
      "        \"\"\"\n",
      "        self.parent = parent\n",
      "        self.game = game\n",
      "        self.subnodes = []\n",
      "        self.score = int 0\n",
      "                        ^\n",
      "------------------------------------------------------------\n",
      "\n",
      "C:\\Users\\yuyan\\.ipython\\cython\\_cython_magic_525f521bf6ec0698d49ffb05c472735d.pyx:22:25: Syntax error in simple statement list\n"
     ]
    },
    {
     "ename": "TypeError",
     "evalue": "object of type 'NoneType' has no len()",
     "output_type": "error",
     "traceback": [
      "\u001b[1;31m---------------------------------------------------------------------------\u001b[0m",
      "\u001b[1;31mTypeError\u001b[0m                                 Traceback (most recent call last)",
      "\u001b[1;32m<ipython-input-22-cb63e2abbbbb>\u001b[0m in \u001b[0;36m<module>\u001b[1;34m()\u001b[0m\n\u001b[1;32m----> 1\u001b[1;33m \u001b[0mget_ipython\u001b[0m\u001b[1;33m(\u001b[0m\u001b[1;33m)\u001b[0m\u001b[1;33m.\u001b[0m\u001b[0mrun_cell_magic\u001b[0m\u001b[1;33m(\u001b[0m\u001b[1;34m'cython'\u001b[0m\u001b[1;33m,\u001b[0m \u001b[1;34m' --annotate'\u001b[0m\u001b[1;33m,\u001b[0m \u001b[1;34m'class Node:\\n    def __init__(self, game, parent, get_moves=\"get_valid_moves\", make_move=\"make_move\"):\\n        \"\"\"\\n        Args:\\n            self := Class instance\\n            game := Self explanatory\\n            parent := Parent node, None if this node is the root node in the tree\\n            depth := The depth of the node\\n            score := The value of this node: In the case of MCTS the total value of the state\\n            get_moves := String of the method name which returns a list of valid moves. This method is an attribute of game\\n            make_move := String of the method name which returns a game which has had a move made. This method is an attribute of game\\n\\n        Methods:\\n            sort_subnodes(func) := Returns a list of subnodes which has been sorted according terminal_node func\\n            expand() := Generates all nodes which can be reached by making 1 move and assigns that list to self.subnodes\\n            convert_to_root(moves) := Converts this node to a root node. Moves is the amount of moves it takes to do this (defaults to 1)\\n\\n        \"\"\"\\n        self.parent = parent\\n        self.game = game\\n        self.subnodes = []\\n        self.score = int 0\\n        self.make_move = make_move\\n        self.get_moves = get_moves\\n\\n\\n        #Checking inputs\\n        try:\\n            game = self.game\\n            assert type(parent) in (None, type(self))\\n            getattr(game, self.get_moves)\\n            getattr(game, self.make_move)\\n        except:\\n            print(\"An error occured while type Checking; parent : {parent}, type(self) : {type_self}\".format(parent=parent, type_self=type(self)))\\n\\n    def add_subnode(self,node):\\n        self.subnodes.append(node)\\n\\n    def expand_node(self):\\n        game = self.game\\n        moves = getattr(game, self.get_moves)()\\n        for move in moves:\\n            temp_game = game\\n            getattr(temp_game, self.make_move)(move)\\n            self.add_subnode(Node(temp_game, self, self.depth + 1, get_moves=self.get_moves, make_move=self.make_move))\\n        return self.subnodes\\n\\n    def convert_to_root(self):\\n        self.parent = None\\n\\n\\n\\nclass Tree:\\n    def __init__(self, game, root_node=None, **kwargs):\\n        self.game = game\\n        if not root_node:\\n            self.root_node = Node(game, None, 0)\\n        else:\\n            self.root_node = root_node\\n    def update_root_node(self, new_root_node):\\n        self.root_node = new_root_node\\n        self.root_node.convert_to_root()\\n#self.root_node = kwargs.get(\\'root_node\\', Node(game, None, 0, get_moves=kwargs.get(\"get_valid_moves\", \"get_valid_moves\"), make_move=kwargs.get(\"make_move\", \"make_move\")))'\u001b[0m\u001b[1;33m)\u001b[0m\u001b[1;33m\u001b[0m\u001b[0m\n\u001b[0m",
      "\u001b[1;32m~\\Anaconda3\\lib\\site-packages\\IPython\\core\\interactiveshell.py\u001b[0m in \u001b[0;36mrun_cell_magic\u001b[1;34m(self, magic_name, line, cell)\u001b[0m\n\u001b[0;32m   2129\u001b[0m             \u001b[0mmagic_arg_s\u001b[0m \u001b[1;33m=\u001b[0m \u001b[0mself\u001b[0m\u001b[1;33m.\u001b[0m\u001b[0mvar_expand\u001b[0m\u001b[1;33m(\u001b[0m\u001b[0mline\u001b[0m\u001b[1;33m,\u001b[0m \u001b[0mstack_depth\u001b[0m\u001b[1;33m)\u001b[0m\u001b[1;33m\u001b[0m\u001b[0m\n\u001b[0;32m   2130\u001b[0m             \u001b[1;32mwith\u001b[0m \u001b[0mself\u001b[0m\u001b[1;33m.\u001b[0m\u001b[0mbuiltin_trap\u001b[0m\u001b[1;33m:\u001b[0m\u001b[1;33m\u001b[0m\u001b[0m\n\u001b[1;32m-> 2131\u001b[1;33m                 \u001b[0mresult\u001b[0m \u001b[1;33m=\u001b[0m \u001b[0mfn\u001b[0m\u001b[1;33m(\u001b[0m\u001b[0mmagic_arg_s\u001b[0m\u001b[1;33m,\u001b[0m \u001b[0mcell\u001b[0m\u001b[1;33m)\u001b[0m\u001b[1;33m\u001b[0m\u001b[0m\n\u001b[0m\u001b[0;32m   2132\u001b[0m             \u001b[1;32mreturn\u001b[0m \u001b[0mresult\u001b[0m\u001b[1;33m\u001b[0m\u001b[0m\n\u001b[0;32m   2133\u001b[0m \u001b[1;33m\u001b[0m\u001b[0m\n",
      "\u001b[1;32m<decorator-gen-128>\u001b[0m in \u001b[0;36mcython\u001b[1;34m(self, line, cell)\u001b[0m\n",
      "\u001b[1;32m~\\Anaconda3\\lib\\site-packages\\IPython\\core\\magic.py\u001b[0m in \u001b[0;36m<lambda>\u001b[1;34m(f, *a, **k)\u001b[0m\n\u001b[0;32m    185\u001b[0m     \u001b[1;31m# but it's overkill for just that one bit of state.\u001b[0m\u001b[1;33m\u001b[0m\u001b[1;33m\u001b[0m\u001b[0m\n\u001b[0;32m    186\u001b[0m     \u001b[1;32mdef\u001b[0m \u001b[0mmagic_deco\u001b[0m\u001b[1;33m(\u001b[0m\u001b[0marg\u001b[0m\u001b[1;33m)\u001b[0m\u001b[1;33m:\u001b[0m\u001b[1;33m\u001b[0m\u001b[0m\n\u001b[1;32m--> 187\u001b[1;33m         \u001b[0mcall\u001b[0m \u001b[1;33m=\u001b[0m \u001b[1;32mlambda\u001b[0m \u001b[0mf\u001b[0m\u001b[1;33m,\u001b[0m \u001b[1;33m*\u001b[0m\u001b[0ma\u001b[0m\u001b[1;33m,\u001b[0m \u001b[1;33m**\u001b[0m\u001b[0mk\u001b[0m\u001b[1;33m:\u001b[0m \u001b[0mf\u001b[0m\u001b[1;33m(\u001b[0m\u001b[1;33m*\u001b[0m\u001b[0ma\u001b[0m\u001b[1;33m,\u001b[0m \u001b[1;33m**\u001b[0m\u001b[0mk\u001b[0m\u001b[1;33m)\u001b[0m\u001b[1;33m\u001b[0m\u001b[0m\n\u001b[0m\u001b[0;32m    188\u001b[0m \u001b[1;33m\u001b[0m\u001b[0m\n\u001b[0;32m    189\u001b[0m         \u001b[1;32mif\u001b[0m \u001b[0mcallable\u001b[0m\u001b[1;33m(\u001b[0m\u001b[0marg\u001b[0m\u001b[1;33m)\u001b[0m\u001b[1;33m:\u001b[0m\u001b[1;33m\u001b[0m\u001b[0m\n",
      "\u001b[1;32m~\\Anaconda3\\lib\\site-packages\\Cython\\Build\\IpythonMagic.py\u001b[0m in \u001b[0;36mcython\u001b[1;34m(self, line, cell)\u001b[0m\n\u001b[0;32m    319\u001b[0m         \u001b[1;32mif\u001b[0m \u001b[0mneed_cythonize\u001b[0m\u001b[1;33m:\u001b[0m\u001b[1;33m\u001b[0m\u001b[0m\n\u001b[0;32m    320\u001b[0m             \u001b[0mextensions\u001b[0m \u001b[1;33m=\u001b[0m \u001b[0mself\u001b[0m\u001b[1;33m.\u001b[0m\u001b[0m_cythonize\u001b[0m\u001b[1;33m(\u001b[0m\u001b[0mmodule_name\u001b[0m\u001b[1;33m,\u001b[0m \u001b[0mcode\u001b[0m\u001b[1;33m,\u001b[0m \u001b[0mlib_dir\u001b[0m\u001b[1;33m,\u001b[0m \u001b[0margs\u001b[0m\u001b[1;33m,\u001b[0m \u001b[0mquiet\u001b[0m\u001b[1;33m=\u001b[0m\u001b[0margs\u001b[0m\u001b[1;33m.\u001b[0m\u001b[0mquiet\u001b[0m\u001b[1;33m)\u001b[0m\u001b[1;33m\u001b[0m\u001b[0m\n\u001b[1;32m--> 321\u001b[1;33m             \u001b[1;32massert\u001b[0m \u001b[0mlen\u001b[0m\u001b[1;33m(\u001b[0m\u001b[0mextensions\u001b[0m\u001b[1;33m)\u001b[0m \u001b[1;33m==\u001b[0m \u001b[1;36m1\u001b[0m\u001b[1;33m\u001b[0m\u001b[0m\n\u001b[0m\u001b[0;32m    322\u001b[0m             \u001b[0mextension\u001b[0m \u001b[1;33m=\u001b[0m \u001b[0mextensions\u001b[0m\u001b[1;33m[\u001b[0m\u001b[1;36m0\u001b[0m\u001b[1;33m]\u001b[0m\u001b[1;33m\u001b[0m\u001b[0m\n\u001b[0;32m    323\u001b[0m             \u001b[0mself\u001b[0m\u001b[1;33m.\u001b[0m\u001b[0m_code_cache\u001b[0m\u001b[1;33m[\u001b[0m\u001b[0mkey\u001b[0m\u001b[1;33m]\u001b[0m \u001b[1;33m=\u001b[0m \u001b[0mmodule_name\u001b[0m\u001b[1;33m\u001b[0m\u001b[0m\n",
      "\u001b[1;31mTypeError\u001b[0m: object of type 'NoneType' has no len()"
     ]
    }
   ],
   "source": [
    "%%cython  --annotate\n",
    "class Node:\n",
    "    def __init__(self, game, parent, get_moves=\"get_valid_moves\", make_move=\"make_move\"):\n",
    "        \"\"\"\n",
    "        Args:\n",
    "            self := Class instance\n",
    "            game := Self explanatory\n",
    "            parent := Parent node, None if this node is the root node in the tree\n",
    "            depth := The depth of the node\n",
    "            score := The value of this node: In the case of MCTS the total value of the state\n",
    "            get_moves := String of the method name which returns a list of valid moves. This method is an attribute of game\n",
    "            make_move := String of the method name which returns a game which has had a move made. This method is an attribute of game\n",
    "\n",
    "        Methods:\n",
    "            sort_subnodes(func) := Returns a list of subnodes which has been sorted according terminal_node func\n",
    "            expand() := Generates all nodes which can be reached by making 1 move and assigns that list to self.subnodes\n",
    "            convert_to_root(moves) := Converts this node to a root node. Moves is the amount of moves it takes to do this (defaults to 1)\n",
    "\n",
    "        \"\"\"\n",
    "        self.parent = parent\n",
    "        self.game = game\n",
    "        self.subnodes = []\n",
    "        self.score = 0\n",
    "        self.make_move = make_move\n",
    "        self.get_moves = get_moves\n",
    "\n",
    "\n",
    "        #Checking inputs\n",
    "        try:\n",
    "            game = self.game\n",
    "            assert type(parent) in (None, type(self))\n",
    "            getattr(game, self.get_moves)\n",
    "            getattr(game, self.make_move)\n",
    "        except:\n",
    "            print(\"An error occured while type Checking; parent : {parent}, type(self) : {type_self}\".format(parent=parent, type_self=type(self)))\n",
    "\n",
    "    def add_subnode(self,node):\n",
    "        self.subnodes.append(node)\n",
    "\n",
    "    def expand_node(self):\n",
    "        game = self.game\n",
    "        moves = getattr(game, self.get_moves)()\n",
    "        for move in moves:\n",
    "            temp_game = game\n",
    "            getattr(temp_game, self.make_move)(move)\n",
    "            self.add_subnode(Node(temp_game, self, self.depth + 1, get_moves=self.get_moves, make_move=self.make_move))\n",
    "        return self.subnodes\n",
    "\n",
    "    def convert_to_root(self):\n",
    "        self.parent = None\n",
    "\n",
    "\n",
    "\n",
    "class Tree:\n",
    "    def __init__(self, game, root_node=None, **kwargs):\n",
    "        self.game = game\n",
    "        if not root_node:\n",
    "            self.root_node = Node(game, None, 0)\n",
    "        else:\n",
    "            self.root_node = root_node\n",
    "    def update_root_node(self, new_root_node):\n",
    "        self.root_node = new_root_node\n",
    "        self.root_node.convert_to_root()\n",
    "#self.root_node = kwargs.get('root_node', Node(game, None, 0, get_moves=kwargs.get(\"get_valid_moves\", \"get_valid_moves\"), make_move=kwargs.get(\"make_move\", \"make_move\")))\n"
   ]
  },
  {
   "cell_type": "code",
   "execution_count": null,
   "metadata": {},
   "outputs": [],
   "source": []
  },
  {
   "cell_type": "code",
   "execution_count": null,
   "metadata": {},
   "outputs": [],
   "source": []
  }
 ],
 "metadata": {
  "kernelspec": {
   "display_name": "Python 3",
   "language": "python",
   "name": "python3"
  },
  "language_info": {
   "codemirror_mode": {
    "name": "ipython",
    "version": 3
   },
   "file_extension": ".py",
   "mimetype": "text/x-python",
   "name": "python",
   "nbconvert_exporter": "python",
   "pygments_lexer": "ipython3",
   "version": "3.6.4"
  }
 },
 "nbformat": 4,
 "nbformat_minor": 2
}
