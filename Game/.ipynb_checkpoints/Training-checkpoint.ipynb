{
 "cells": [
  {
   "cell_type": "code",
   "execution_count": 2,
   "metadata": {},
   "outputs": [
    {
     "name": "stderr",
     "output_type": "stream",
     "text": [
      "Using TensorFlow backend.\n"
     ]
    }
   ],
   "source": [
    "import time\n",
    "import AI.TreeSearch.MonteCarloTreeSearch as Mcts\n",
    "import AI.GameLogic.GameLogic as GameLogic\n",
    "import AI.NeuralNetwork.NeuralNetwork as NeN\n",
    "from imp import reload\n",
    "import numpy as np\n",
    "import keras as k"
   ]
  },
  {
   "cell_type": "code",
   "execution_count": 3,
   "metadata": {},
   "outputs": [],
   "source": [
    "reload(NeN)\n",
    "NN = NeN.NeuralNetwork"
   ]
  },
  {
   "cell_type": "code",
   "execution_count": 4,
   "metadata": {},
   "outputs": [],
   "source": [
    "reload(GameLogic)\n",
    "Game = GameLogic.Game"
   ]
  },
  {
   "cell_type": "code",
   "execution_count": 5,
   "metadata": {},
   "outputs": [],
   "source": [
    "reload(Mcts)\n",
    "MCTS = Mcts.MonteCarloTreeSearch\n",
    "argmax = Mcts.argmax"
   ]
  },
  {
   "cell_type": "code",
   "execution_count": 10,
   "metadata": {},
   "outputs": [
    {
     "name": "stdout",
     "output_type": "stream",
     "text": [
      "Tensor(\"policy_output_1/Sigmoid:0\", shape=(?, 121), dtype=float32)\n",
      "An error occured while type Checking; parent : None, type(self) : <class 'AI.TreeSearch.MonteCarloTreeSearch.MCTS_Node'>\n"
     ]
    }
   ],
   "source": [
    "nn = NN()\n",
    "mcts = MCTS(Game(), nn)"
   ]
  },
  {
   "cell_type": "code",
   "execution_count": 11,
   "metadata": {
    "scrolled": true
   },
   "outputs": [],
   "source": [
    "def gen_match(mcts):\n",
    "    mcts.game = Game()\n",
    "    while not mcts.game.GameState:\n",
    "        mcts.turn(500)\n",
    "    return mcts.train(0.99)"
   ]
  },
  {
   "cell_type": "code",
   "execution_count": null,
   "metadata": {},
   "outputs": [],
   "source": [
    "iData = []\n",
    "pData = []\n",
    "vData = []"
   ]
  },
  {
   "cell_type": "code",
   "execution_count": null,
   "metadata": {},
   "outputs": [
    {
     "name": "stdout",
     "output_type": "stream",
     "text": [
      "0\n"
     ]
    }
   ],
   "source": [
    "for i in range(10):\n",
    "    print(i)\n",
    "    d = gen_match(mcts)\n",
    "    iData += d[0]\n",
    "    pData += d[1]\n",
    "    vData += d[2]\n",
    "    print(\"Finished iter {}\".format(i))"
   ]
  },
  {
   "cell_type": "code",
   "execution_count": null,
   "metadata": {},
   "outputs": [],
   "source": [
    "    "
   ]
  }
 ],
 "metadata": {
  "kernelspec": {
   "display_name": "Python 3",
   "language": "python",
   "name": "python3"
  },
  "language_info": {
   "codemirror_mode": {
    "name": "ipython",
    "version": 3
   },
   "file_extension": ".py",
   "mimetype": "text/x-python",
   "name": "python",
   "nbconvert_exporter": "python",
   "pygments_lexer": "ipython3",
   "version": "3.5.4"
  }
 },
 "nbformat": 4,
 "nbformat_minor": 2
}
