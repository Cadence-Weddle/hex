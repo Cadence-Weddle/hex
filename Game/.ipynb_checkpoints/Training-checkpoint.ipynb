{
 "cells": [
  {
   "cell_type": "code",
   "execution_count": 1,
   "metadata": {},
   "outputs": [
    {
     "name": "stderr",
     "output_type": "stream",
     "text": [
      "Using TensorFlow backend.\n"
     ]
    }
   ],
   "source": [
    "import AI.TreeSearch.MonteCarloTreeSearch as Mcts\n",
    "import AI.GameLogic.GameLogic as GameLogic\n",
    "import AI.NeuralNetwork.NeuralNetwork as NeN\n",
    "from imp import reload\n",
    "import numpy as np"
   ]
  },
  {
   "cell_type": "code",
   "execution_count": 2,
   "metadata": {},
   "outputs": [],
   "source": [
    "reload(NeN)\n",
    "NN = NeN.NeuralNetwork"
   ]
  },
  {
   "cell_type": "code",
   "execution_count": 3,
   "metadata": {},
   "outputs": [],
   "source": [
    "reload(GameLogic)\n",
    "Game = GameLogic.Game"
   ]
  },
  {
   "cell_type": "code",
   "execution_count": 4,
   "metadata": {},
   "outputs": [],
   "source": [
    "reload(Mcts)\n",
    "MCTS = Mcts.MonteCarloTreeSearch\n",
    "argmax = Mcts.argmax\n"
   ]
  },
  {
   "cell_type": "code",
   "execution_count": 5,
   "metadata": {},
   "outputs": [
    {
     "name": "stdout",
     "output_type": "stream",
     "text": [
      "Tensor(\"policy_output/Sigmoid:0\", shape=(?, 121), dtype=float32)\n"
     ]
    }
   ],
   "source": [
    "nn = NN()"
   ]
  },
  {
   "cell_type": "code",
   "execution_count": 6,
   "metadata": {
    "scrolled": true
   },
   "outputs": [],
   "source": [
    "def gen_match(model):\n",
    "    mcts = MCTS(Game(), model)\n",
    "    while not mcts.game.GameState:\n",
    "        mcts.turn(500)\n",
    "    return mcts.train(0.99)"
   ]
  },
  {
   "cell_type": "code",
   "execution_count": 12,
   "metadata": {},
   "outputs": [],
   "source": [
    "iData = []\n",
    "pData = []\n",
    "vData = []\n",
    "filepath = \"AI\\\\NeuralNetwork\\\\SavedModel.h5\""
   ]
  },
  {
   "cell_type": "code",
   "execution_count": 8,
   "metadata": {},
   "outputs": [
    {
     "name": "stdout",
     "output_type": "stream",
     "text": [
      "0\n",
      "An error occured while type Checking; parent : None, type(self) : <class 'AI.TreeSearch.MonteCarloTreeSearch.MCTS_Node'>\n",
      "Epoch 1/5\n",
      "107/107 [==============================] - 6s 58ms/step - loss: 4.6226 - policy_output_loss: 4.7241 - value_output_loss: -0.1015\n",
      "Epoch 2/5\n",
      "107/107 [==============================] - 1s 5ms/step - loss: 4.4695 - policy_output_loss: 4.5711 - value_output_loss: -0.1015\n",
      "Epoch 3/5\n",
      "107/107 [==============================] - 1s 5ms/step - loss: 4.3698 - policy_output_loss: 4.4714 - value_output_loss: -0.1015\n",
      "Epoch 4/5\n",
      "107/107 [==============================] - 1s 5ms/step - loss: 4.3078 - policy_output_loss: 4.4094 - value_output_loss: -0.1015\n",
      "Epoch 5/5\n",
      "107/107 [==============================] - 1s 5ms/step - loss: 4.2653 - policy_output_loss: 4.3669 - value_output_loss: -0.1015\n",
      "Finished iter 0\n",
      "1\n",
      "An error occured while type Checking; parent : None, type(self) : <class 'AI.TreeSearch.MonteCarloTreeSearch.MCTS_Node'>\n",
      "Epoch 1/5\n",
      "120/120 [==============================] - 1s 9ms/step - loss: 4.8963 - policy_output_loss: 4.8490 - value_output_loss: 0.0473\n",
      "Epoch 2/5\n",
      "120/120 [==============================] - 1s 5ms/step - loss: 4.6174 - policy_output_loss: 4.5701 - value_output_loss: 0.0473\n",
      "Epoch 3/5\n",
      "120/120 [==============================] - 1s 5ms/step - loss: 4.4632 - policy_output_loss: 4.4159 - value_output_loss: 0.0473\n",
      "Epoch 4/5\n",
      "120/120 [==============================] - 1s 5ms/step - loss: 4.3687 - policy_output_loss: 4.3214 - value_output_loss: 0.0473\n",
      "Epoch 5/5\n",
      "120/120 [==============================] - 1s 5ms/step - loss: 4.3113 - policy_output_loss: 4.2640 - value_output_loss: 0.0473\n",
      "Finished iter 1\n",
      "2\n",
      "An error occured while type Checking; parent : None, type(self) : <class 'AI.TreeSearch.MonteCarloTreeSearch.MCTS_Node'>\n",
      "Epoch 1/5\n",
      "100/100 [==============================] - 1s 10ms/step - loss: 4.9513 - policy_output_loss: 4.9000 - value_output_loss: 0.0513\n",
      "Epoch 2/5\n",
      "100/100 [==============================] - 1s 5ms/step - loss: 4.6429 - policy_output_loss: 4.5915 - value_output_loss: 0.0513\n",
      "Epoch 3/5\n",
      "100/100 [==============================] - 1s 5ms/step - loss: 4.4998 - policy_output_loss: 4.4485 - value_output_loss: 0.0513\n",
      "Epoch 4/5\n",
      "100/100 [==============================] - 1s 5ms/step - loss: 4.4404 - policy_output_loss: 4.3891 - value_output_loss: 0.0513\n",
      "Epoch 5/5\n",
      "100/100 [==============================] - 1s 5ms/step - loss: 4.4133 - policy_output_loss: 4.3619 - value_output_loss: 0.0513\n",
      "Finished iter 2\n",
      "3\n",
      "An error occured while type Checking; parent : None, type(self) : <class 'AI.TreeSearch.MonteCarloTreeSearch.MCTS_Node'>\n",
      "Epoch 1/5\n",
      "83/83 [==============================] - 1s 11ms/step - loss: 4.6645 - policy_output_loss: 4.8044 - value_output_loss: -0.1400\n",
      "Epoch 2/5\n",
      "83/83 [==============================] - ETA: 0s - loss: 4.1451 - policy_output_loss: 4.6243 - value_output_loss: -0.479 - 0s 6ms/step - loss: 4.4952 - policy_output_loss: 4.6352 - value_output_loss: -0.1400\n",
      "Epoch 3/5\n",
      "83/83 [==============================] - 0s 5ms/step - loss: 4.3826 - policy_output_loss: 4.5225 - value_output_loss: -0.1400\n",
      "Epoch 4/5\n",
      "83/83 [==============================] - 0s 5ms/step - loss: 4.3309 - policy_output_loss: 4.4709 - value_output_loss: -0.1400\n",
      "Epoch 5/5\n",
      "83/83 [==============================] - 0s 5ms/step - loss: 4.3071 - policy_output_loss: 4.4470 - value_output_loss: -0.1400\n",
      "Finished iter 3\n",
      "4\n",
      "An error occured while type Checking; parent : None, type(self) : <class 'AI.TreeSearch.MonteCarloTreeSearch.MCTS_Node'>\n",
      "Epoch 1/5\n",
      "119/119 [==============================] - 1s 9ms/step - loss: 4.5200 - policy_output_loss: 4.6086 - value_output_loss: -0.0886\n",
      "Epoch 2/5\n",
      "119/119 [==============================] - 1s 5ms/step - loss: 4.3068 - policy_output_loss: 4.3954 - value_output_loss: -0.0886\n",
      "Epoch 3/5\n",
      "119/119 [==============================] - 1s 5ms/step - loss: 4.1942 - policy_output_loss: 4.2828 - value_output_loss: -0.0886\n",
      "Epoch 4/5\n",
      "119/119 [==============================] - 1s 5ms/step - loss: 4.1398 - policy_output_loss: 4.2284 - value_output_loss: -0.0886\n",
      "Epoch 5/5\n",
      "119/119 [==============================] - 1s 5ms/step - loss: 4.1146 - policy_output_loss: 4.2032 - value_output_loss: -0.0886\n",
      "Finished iter 4\n",
      "5\n",
      "An error occured while type Checking; parent : None, type(self) : <class 'AI.TreeSearch.MonteCarloTreeSearch.MCTS_Node'>\n",
      "Epoch 1/5\n",
      "114/114 [==============================] - 1s 10ms/step - loss: 4.7589 - policy_output_loss: 4.7105 - value_output_loss: 0.0485\n",
      "Epoch 2/5\n",
      "114/114 [==============================] - 1s 5ms/step - loss: 4.4381 - policy_output_loss: 4.3897 - value_output_loss: 0.0485\n",
      "Epoch 3/5\n",
      "114/114 [==============================] - 1s 5ms/step - loss: 4.3523 - policy_output_loss: 4.3039 - value_output_loss: 0.0485\n",
      "Epoch 4/5\n",
      "114/114 [==============================] - 1s 6ms/step - loss: 4.2963 - policy_output_loss: 4.2479 - value_output_loss: 0.0485\n",
      "Epoch 5/5\n",
      "114/114 [==============================] - 1s 5ms/step - loss: 4.2613 - policy_output_loss: 4.2129 - value_output_loss: 0.0485\n",
      "Finished iter 5\n",
      "6\n",
      "An error occured while type Checking; parent : None, type(self) : <class 'AI.TreeSearch.MonteCarloTreeSearch.MCTS_Node'>\n",
      "Epoch 1/5\n",
      "89/89 [==============================] - 1s 11ms/step - loss: 4.8930 - policy_output_loss: 5.0212 - value_output_loss: -0.1282\n",
      "Epoch 2/5\n",
      "89/89 [==============================] - 0s 6ms/step - loss: 4.5512 - policy_output_loss: 4.6794 - value_output_loss: -0.1282\n",
      "Epoch 3/5\n",
      "89/89 [==============================] - 0s 5ms/step - loss: 4.3745 - policy_output_loss: 4.5027 - value_output_loss: -0.1282\n",
      "Epoch 4/5\n",
      "89/89 [==============================] - 0s 6ms/step - loss: 4.3138 - policy_output_loss: 4.4420 - value_output_loss: -0.1282\n",
      "Epoch 5/5\n",
      "89/89 [==============================] - 0s 5ms/step - loss: 4.2890 - policy_output_loss: 4.4172 - value_output_loss: -0.1282\n",
      "Finished iter 6\n",
      "7\n",
      "An error occured while type Checking; parent : None, type(self) : <class 'AI.TreeSearch.MonteCarloTreeSearch.MCTS_Node'>\n",
      "Epoch 1/5\n",
      "112/112 [==============================] - 1s 9ms/step - loss: 4.7563 - policy_output_loss: 4.7075 - value_output_loss: 0.0489\n",
      "Epoch 2/5\n",
      "112/112 [==============================] - 1s 5ms/step - loss: 4.4976 - policy_output_loss: 4.4487 - value_output_loss: 0.0489\n",
      "Epoch 3/5\n",
      "112/112 [==============================] - 1s 5ms/step - loss: 4.3696 - policy_output_loss: 4.3208 - value_output_loss: 0.0489\n",
      "Epoch 4/5\n",
      "112/112 [==============================] - 1s 5ms/step - loss: 4.3119 - policy_output_loss: 4.2630 - value_output_loss: 0.0489\n",
      "Epoch 5/5\n",
      "112/112 [==============================] - 1s 5ms/step - loss: 4.2819 - policy_output_loss: 4.2330 - value_output_loss: 0.0489\n",
      "Finished iter 7\n",
      "8\n",
      "An error occured while type Checking; parent : None, type(self) : <class 'AI.TreeSearch.MonteCarloTreeSearch.MCTS_Node'>\n",
      "Epoch 1/5\n",
      "113/113 [==============================] - 1s 10ms/step - loss: 4.8112 - policy_output_loss: 4.9059 - value_output_loss: -0.0947\n",
      "Epoch 2/5\n",
      "113/113 [==============================] - 1s 6ms/step - loss: 4.4149 - policy_output_loss: 4.5096 - value_output_loss: -0.0947\n",
      "Epoch 3/5\n",
      "113/113 [==============================] - 1s 5ms/step - loss: 4.2902 - policy_output_loss: 4.3849 - value_output_loss: -0.0947\n",
      "Epoch 4/5\n",
      "113/113 [==============================] - 1s 5ms/step - loss: 4.2217 - policy_output_loss: 4.3164 - value_output_loss: -0.0947\n",
      "Epoch 5/5\n",
      "113/113 [==============================] - 1s 5ms/step - loss: 4.1914 - policy_output_loss: 4.2861 - value_output_loss: -0.0947\n",
      "Finished iter 8\n",
      "9\n",
      "An error occured while type Checking; parent : None, type(self) : <class 'AI.TreeSearch.MonteCarloTreeSearch.MCTS_Node'>\n",
      "Epoch 1/5\n",
      "89/89 [==============================] - 1s 11ms/step - loss: 4.8441 - policy_output_loss: 4.9723 - value_output_loss: -0.1282\n",
      "Epoch 2/5\n",
      "89/89 [==============================] - 0s 6ms/step - loss: 4.5230 - policy_output_loss: 4.6513 - value_output_loss: -0.1282\n",
      "Epoch 3/5\n",
      "89/89 [==============================] - 0s 5ms/step - loss: 4.3758 - policy_output_loss: 4.5040 - value_output_loss: -0.1282\n",
      "Epoch 4/5\n"
     ]
    },
    {
     "name": "stdout",
     "output_type": "stream",
     "text": [
      "89/89 [==============================] - 0s 5ms/step - loss: 4.3160 - policy_output_loss: 4.4442 - value_output_loss: -0.1282A: 0s - loss: -0.1038 - policy_output_loss: 4.3677 - value_output_loss: -4\n",
      "Epoch 5/5\n",
      "89/89 [==============================] - 0s 5ms/step - loss: 4.2919 - policy_output_loss: 4.4201 - value_output_loss: -0.1282\n",
      "Finished iter 9\n"
     ]
    }
   ],
   "source": [
    "for i in range(10):\n",
    "    print(i)\n",
    "    d = gen_match(nn)\n",
    "    iData += d[0]\n",
    "    pData += d[1]\n",
    "    vData += d[2]\n",
    "    nn.train_model(np.array(iData), np.array(vData), np.array(pData))\n",
    "    iData = []\n",
    "    pData = []\n",
    "    vData = []\n",
    "    if i % 5 == 0:\n",
    "        model.save(filepath)\n",
    "    print(\"Finished iter {}\".format(i))"
   ]
  },
  {
   "cell_type": "code",
   "execution_count": 17,
   "metadata": {},
   "outputs": [],
   "source": [
    "import h5py as h5py"
   ]
  },
  {
   "cell_type": "code",
   "execution_count": 19,
   "metadata": {},
   "outputs": [
    {
     "data": {
      "text/plain": [
       "False"
      ]
     },
     "execution_count": 19,
     "metadata": {},
     "output_type": "execute_result"
    }
   ],
   "source": []
  },
  {
   "cell_type": "code",
   "execution_count": null,
   "metadata": {},
   "outputs": [],
   "source": []
  }
 ],
 "metadata": {
  "kernelspec": {
   "display_name": "Python 3",
   "language": "python",
   "name": "python3"
  },
  "language_info": {
   "codemirror_mode": {
    "name": "ipython",
    "version": 3
   },
   "file_extension": ".py",
   "mimetype": "text/x-python",
   "name": "python",
   "nbconvert_exporter": "python",
   "pygments_lexer": "ipython3",
   "version": "3.5.4"
  }
 },
 "nbformat": 4,
 "nbformat_minor": 2
}
